{
  "metadata": {
    "kernelspec": {
      "language": "python",
      "display_name": "Python 3",
      "name": "python3"
    },
    "language_info": {
      "name": "python",
      "version": "3.10.13",
      "mimetype": "text/x-python",
      "codemirror_mode": {
        "name": "ipython",
        "version": 3
      },
      "pygments_lexer": "ipython3",
      "nbconvert_exporter": "python",
      "file_extension": ".py"
    },
    "kaggle": {
      "accelerator": "none",
      "dataSources": [
        {
          "sourceId": 7963069,
          "sourceType": "datasetVersion",
          "datasetId": 4684620
        }
      ],
      "dockerImageVersionId": 30673,
      "isInternetEnabled": true,
      "language": "python",
      "sourceType": "notebook",
      "isGpuEnabled": false
    },
    "colab": {
      "provenance": []
    }
  },
  "nbformat_minor": 0,
  "nbformat": 4,
  "cells": [
    {
      "cell_type": "code",
      "source": [
        "# This Python 3 environment comes with many helpful analytics libraries installed\n",
        "# It is defined by the kaggle/python Docker image: https://github.com/kaggle/docker-python\n",
        "# For example, here's several helpful packages to load\n",
        "\n",
        "import numpy as np # linear algebra\n",
        "import pandas as pd # data processing, CSV file I/O (e.g. pd.read_csv)\n"
      ],
      "metadata": {
        "_uuid": "8f2839f25d086af736a60e9eeb907d3b93b6e0e5",
        "_cell_guid": "b1076dfc-b9ad-4769-8c92-a6c4dae69d19",
        "execution": {
          "iopub.status.busy": "2024-04-10T18:42:12.48729Z",
          "iopub.execute_input": "2024-04-10T18:42:12.487711Z",
          "iopub.status.idle": "2024-04-10T18:42:12.496453Z",
          "shell.execute_reply.started": "2024-04-10T18:42:12.48767Z",
          "shell.execute_reply": "2024-04-10T18:42:12.49564Z"
        },
        "trusted": true,
        "id": "be4I4HDFXZqC"
      },
      "execution_count": 1,
      "outputs": []
    },
    {
      "cell_type": "code",
      "source": [
        "import pandas as pd"
      ],
      "metadata": {
        "execution": {
          "iopub.status.busy": "2024-04-10T18:42:12.498017Z",
          "iopub.execute_input": "2024-04-10T18:42:12.498465Z",
          "iopub.status.idle": "2024-04-10T18:42:12.5064Z",
          "shell.execute_reply.started": "2024-04-10T18:42:12.498438Z",
          "shell.execute_reply": "2024-04-10T18:42:12.505513Z"
        },
        "trusted": true,
        "id": "kOvmYPHSXZqG"
      },
      "execution_count": 2,
      "outputs": []
    },
    {
      "cell_type": "code",
      "source": [
        "data=pd.read_csv(\"/content/fuel_project.csv\")\n",
        "data.head(15)"
      ],
      "metadata": {
        "execution": {
          "iopub.status.busy": "2024-04-10T18:42:12.507522Z",
          "iopub.execute_input": "2024-04-10T18:42:12.507828Z",
          "iopub.status.idle": "2024-04-10T18:42:12.849186Z",
          "shell.execute_reply.started": "2024-04-10T18:42:12.507802Z",
          "shell.execute_reply": "2024-04-10T18:42:12.848137Z"
        },
        "trusted": true,
        "colab": {
          "base_uri": "https://localhost:8080/",
          "height": 1000
        },
        "id": "dkMPurNiXZqI",
        "outputId": "cfcd72ed-35d7-48e8-8f08-4d16c0d840af"
      },
      "execution_count": 3,
      "outputs": [
        {
          "output_type": "stream",
          "name": "stderr",
          "text": [
            "<ipython-input-3-ed0b11e92e83>:1: DtypeWarning: Columns (7,44) have mixed types. Specify dtype option on import or set low_memory=False.\n",
            "  data=pd.read_csv(\"/content/fuel_project.csv\")\n"
          ]
        },
        {
          "output_type": "execute_result",
          "data": {
            "text/plain": [
              "    vehicle_id  year                         make               model  \\\n",
              "0        26587  1984                   Alfa Romeo           GT V6 2.5   \n",
              "1        27705  1984                   Alfa Romeo           GT V6 2.5   \n",
              "2        26561  1984                   Alfa Romeo  Spider Veloce 2000   \n",
              "3        27681  1984                   Alfa Romeo  Spider Veloce 2000   \n",
              "4        27550  1984                   AM General   DJ Po Vehicle 2WD   \n",
              "5        28426  1984                   AM General   DJ Po Vehicle 2WD   \n",
              "6        27549  1984                   AM General    FJ8c Post Office   \n",
              "7        28425  1984                   AM General    FJ8c Post Office   \n",
              "8        27593  1984  American Motors Corporation           Eagle 4WD   \n",
              "9        28455  1984  American Motors Corporation           Eagle 4WD   \n",
              "10       27591  1984  American Motors Corporation           Eagle 4WD   \n",
              "11       27594  1984  American Motors Corporation           Eagle 4WD   \n",
              "12       28454  1984  American Motors Corporation           Eagle 4WD   \n",
              "13       28456  1984  American Motors Corporation           Eagle 4WD   \n",
              "14       27592  1984  American Motors Corporation           Eagle 4WD   \n",
              "\n",
              "                          class                       drive  \\\n",
              "0              Minicompact Cars                         NaN   \n",
              "1              Minicompact Cars                         NaN   \n",
              "2                   Two Seaters                         NaN   \n",
              "3                   Two Seaters                         NaN   \n",
              "4   Special Purpose Vehicle 2WD               2-Wheel Drive   \n",
              "5   Special Purpose Vehicle 2WD               2-Wheel Drive   \n",
              "6   Special Purpose Vehicle 2WD               2-Wheel Drive   \n",
              "7   Special Purpose Vehicle 2WD               2-Wheel Drive   \n",
              "8   Special Purpose Vehicle 4WD  4-Wheel or All-Wheel Drive   \n",
              "9   Special Purpose Vehicle 4WD  4-Wheel or All-Wheel Drive   \n",
              "10  Special Purpose Vehicle 4WD  4-Wheel or All-Wheel Drive   \n",
              "11  Special Purpose Vehicle 4WD  4-Wheel or All-Wheel Drive   \n",
              "12  Special Purpose Vehicle 4WD  4-Wheel or All-Wheel Drive   \n",
              "13  Special Purpose Vehicle 4WD  4-Wheel or All-Wheel Drive   \n",
              "14  Special Purpose Vehicle 4WD  4-Wheel or All-Wheel Drive   \n",
              "\n",
              "         transmission transmission_type  engine_index    engine_descriptor  \\\n",
              "0      Manual 5-Speed               NaN          9001                (FFS)   \n",
              "1      Manual 5-Speed               NaN          9005       (FFS) CA model   \n",
              "2      Manual 5-Speed               NaN          9002                (FFS)   \n",
              "3      Manual 5-Speed               NaN          9006       (FFS) CA model   \n",
              "4   Automatic 3-Speed               NaN          1830                (FFS)   \n",
              "5   Automatic 3-Speed               NaN          1880       (FFS) CA model   \n",
              "6   Automatic 3-Speed               NaN          1831                (FFS)   \n",
              "7   Automatic 3-Speed               NaN          1881       (FFS) CA model   \n",
              "8   Automatic 3-Speed               NaN          1524                (FFS)   \n",
              "9   Automatic 3-Speed               NaN          1574       (FFS) CA model   \n",
              "10     Manual 4-Speed               NaN          1405                (FFS)   \n",
              "11     Manual 4-Speed               NaN          1504                (FFS)   \n",
              "12     Manual 4-Speed               NaN          1455  (FFS)(SIL) CA model   \n",
              "13     Manual 4-Speed               NaN          1554       (FFS) CA model   \n",
              "14     Manual 5-Speed               NaN          1420                (FFS)   \n",
              "\n",
              "    ...  hours_to_charge_ac_240v  composite_city_mpg composite_highway_mpg  \\\n",
              "0   ...                      0.0                   0                     0   \n",
              "1   ...                      0.0                   0                     0   \n",
              "2   ...                      0.0                   0                     0   \n",
              "3   ...                      0.0                   0                     0   \n",
              "4   ...                      0.0                   0                     0   \n",
              "5   ...                      0.0                   0                     0   \n",
              "6   ...                      0.0                   0                     0   \n",
              "7   ...                      0.0                   0                     0   \n",
              "8   ...                      0.0                   0                     0   \n",
              "9   ...                      0.0                   0                     0   \n",
              "10  ...                      0.0                   0                     0   \n",
              "11  ...                      0.0                   0                     0   \n",
              "12  ...                      0.0                   0                     0   \n",
              "13  ...                      0.0                   0                     0   \n",
              "14  ...                      0.0                   0                     0   \n",
              "\n",
              "    composite_combined_mpg range_ft1 city_range_ft1  highway_range_ft1  \\\n",
              "0                        0         0            0.0                0.0   \n",
              "1                        0         0            0.0                0.0   \n",
              "2                        0         0            0.0                0.0   \n",
              "3                        0         0            0.0                0.0   \n",
              "4                        0         0            0.0                0.0   \n",
              "5                        0         0            0.0                0.0   \n",
              "6                        0         0            0.0                0.0   \n",
              "7                        0         0            0.0                0.0   \n",
              "8                        0         0            0.0                0.0   \n",
              "9                        0         0            0.0                0.0   \n",
              "10                       0         0            0.0                0.0   \n",
              "11                       0         0            0.0                0.0   \n",
              "12                       0         0            0.0                0.0   \n",
              "13                       0         0            0.0                0.0   \n",
              "14                       0         0            0.0                0.0   \n",
              "\n",
              "    range_ft2  city_range_ft2  highway_range_ft2  \n",
              "0         NaN             0.0                0.0  \n",
              "1         NaN             0.0                0.0  \n",
              "2         NaN             0.0                0.0  \n",
              "3         NaN             0.0                0.0  \n",
              "4         NaN             0.0                0.0  \n",
              "5         NaN             0.0                0.0  \n",
              "6         NaN             0.0                0.0  \n",
              "7         NaN             0.0                0.0  \n",
              "8         NaN             0.0                0.0  \n",
              "9         NaN             0.0                0.0  \n",
              "10        NaN             0.0                0.0  \n",
              "11        NaN             0.0                0.0  \n",
              "12        NaN             0.0                0.0  \n",
              "13        NaN             0.0                0.0  \n",
              "14        NaN             0.0                0.0  \n",
              "\n",
              "[15 rows x 81 columns]"
            ],
            "text/html": [
              "\n",
              "  <div id=\"df-f59a0ed5-38a4-410c-a485-5b2abd9480e4\" class=\"colab-df-container\">\n",
              "    <div>\n",
              "<style scoped>\n",
              "    .dataframe tbody tr th:only-of-type {\n",
              "        vertical-align: middle;\n",
              "    }\n",
              "\n",
              "    .dataframe tbody tr th {\n",
              "        vertical-align: top;\n",
              "    }\n",
              "\n",
              "    .dataframe thead th {\n",
              "        text-align: right;\n",
              "    }\n",
              "</style>\n",
              "<table border=\"1\" class=\"dataframe\">\n",
              "  <thead>\n",
              "    <tr style=\"text-align: right;\">\n",
              "      <th></th>\n",
              "      <th>vehicle_id</th>\n",
              "      <th>year</th>\n",
              "      <th>make</th>\n",
              "      <th>model</th>\n",
              "      <th>class</th>\n",
              "      <th>drive</th>\n",
              "      <th>transmission</th>\n",
              "      <th>transmission_type</th>\n",
              "      <th>engine_index</th>\n",
              "      <th>engine_descriptor</th>\n",
              "      <th>...</th>\n",
              "      <th>hours_to_charge_ac_240v</th>\n",
              "      <th>composite_city_mpg</th>\n",
              "      <th>composite_highway_mpg</th>\n",
              "      <th>composite_combined_mpg</th>\n",
              "      <th>range_ft1</th>\n",
              "      <th>city_range_ft1</th>\n",
              "      <th>highway_range_ft1</th>\n",
              "      <th>range_ft2</th>\n",
              "      <th>city_range_ft2</th>\n",
              "      <th>highway_range_ft2</th>\n",
              "    </tr>\n",
              "  </thead>\n",
              "  <tbody>\n",
              "    <tr>\n",
              "      <th>0</th>\n",
              "      <td>26587</td>\n",
              "      <td>1984</td>\n",
              "      <td>Alfa Romeo</td>\n",
              "      <td>GT V6 2.5</td>\n",
              "      <td>Minicompact Cars</td>\n",
              "      <td>NaN</td>\n",
              "      <td>Manual 5-Speed</td>\n",
              "      <td>NaN</td>\n",
              "      <td>9001</td>\n",
              "      <td>(FFS)</td>\n",
              "      <td>...</td>\n",
              "      <td>0.0</td>\n",
              "      <td>0</td>\n",
              "      <td>0</td>\n",
              "      <td>0</td>\n",
              "      <td>0</td>\n",
              "      <td>0.0</td>\n",
              "      <td>0.0</td>\n",
              "      <td>NaN</td>\n",
              "      <td>0.0</td>\n",
              "      <td>0.0</td>\n",
              "    </tr>\n",
              "    <tr>\n",
              "      <th>1</th>\n",
              "      <td>27705</td>\n",
              "      <td>1984</td>\n",
              "      <td>Alfa Romeo</td>\n",
              "      <td>GT V6 2.5</td>\n",
              "      <td>Minicompact Cars</td>\n",
              "      <td>NaN</td>\n",
              "      <td>Manual 5-Speed</td>\n",
              "      <td>NaN</td>\n",
              "      <td>9005</td>\n",
              "      <td>(FFS) CA model</td>\n",
              "      <td>...</td>\n",
              "      <td>0.0</td>\n",
              "      <td>0</td>\n",
              "      <td>0</td>\n",
              "      <td>0</td>\n",
              "      <td>0</td>\n",
              "      <td>0.0</td>\n",
              "      <td>0.0</td>\n",
              "      <td>NaN</td>\n",
              "      <td>0.0</td>\n",
              "      <td>0.0</td>\n",
              "    </tr>\n",
              "    <tr>\n",
              "      <th>2</th>\n",
              "      <td>26561</td>\n",
              "      <td>1984</td>\n",
              "      <td>Alfa Romeo</td>\n",
              "      <td>Spider Veloce 2000</td>\n",
              "      <td>Two Seaters</td>\n",
              "      <td>NaN</td>\n",
              "      <td>Manual 5-Speed</td>\n",
              "      <td>NaN</td>\n",
              "      <td>9002</td>\n",
              "      <td>(FFS)</td>\n",
              "      <td>...</td>\n",
              "      <td>0.0</td>\n",
              "      <td>0</td>\n",
              "      <td>0</td>\n",
              "      <td>0</td>\n",
              "      <td>0</td>\n",
              "      <td>0.0</td>\n",
              "      <td>0.0</td>\n",
              "      <td>NaN</td>\n",
              "      <td>0.0</td>\n",
              "      <td>0.0</td>\n",
              "    </tr>\n",
              "    <tr>\n",
              "      <th>3</th>\n",
              "      <td>27681</td>\n",
              "      <td>1984</td>\n",
              "      <td>Alfa Romeo</td>\n",
              "      <td>Spider Veloce 2000</td>\n",
              "      <td>Two Seaters</td>\n",
              "      <td>NaN</td>\n",
              "      <td>Manual 5-Speed</td>\n",
              "      <td>NaN</td>\n",
              "      <td>9006</td>\n",
              "      <td>(FFS) CA model</td>\n",
              "      <td>...</td>\n",
              "      <td>0.0</td>\n",
              "      <td>0</td>\n",
              "      <td>0</td>\n",
              "      <td>0</td>\n",
              "      <td>0</td>\n",
              "      <td>0.0</td>\n",
              "      <td>0.0</td>\n",
              "      <td>NaN</td>\n",
              "      <td>0.0</td>\n",
              "      <td>0.0</td>\n",
              "    </tr>\n",
              "    <tr>\n",
              "      <th>4</th>\n",
              "      <td>27550</td>\n",
              "      <td>1984</td>\n",
              "      <td>AM General</td>\n",
              "      <td>DJ Po Vehicle 2WD</td>\n",
              "      <td>Special Purpose Vehicle 2WD</td>\n",
              "      <td>2-Wheel Drive</td>\n",
              "      <td>Automatic 3-Speed</td>\n",
              "      <td>NaN</td>\n",
              "      <td>1830</td>\n",
              "      <td>(FFS)</td>\n",
              "      <td>...</td>\n",
              "      <td>0.0</td>\n",
              "      <td>0</td>\n",
              "      <td>0</td>\n",
              "      <td>0</td>\n",
              "      <td>0</td>\n",
              "      <td>0.0</td>\n",
              "      <td>0.0</td>\n",
              "      <td>NaN</td>\n",
              "      <td>0.0</td>\n",
              "      <td>0.0</td>\n",
              "    </tr>\n",
              "    <tr>\n",
              "      <th>5</th>\n",
              "      <td>28426</td>\n",
              "      <td>1984</td>\n",
              "      <td>AM General</td>\n",
              "      <td>DJ Po Vehicle 2WD</td>\n",
              "      <td>Special Purpose Vehicle 2WD</td>\n",
              "      <td>2-Wheel Drive</td>\n",
              "      <td>Automatic 3-Speed</td>\n",
              "      <td>NaN</td>\n",
              "      <td>1880</td>\n",
              "      <td>(FFS) CA model</td>\n",
              "      <td>...</td>\n",
              "      <td>0.0</td>\n",
              "      <td>0</td>\n",
              "      <td>0</td>\n",
              "      <td>0</td>\n",
              "      <td>0</td>\n",
              "      <td>0.0</td>\n",
              "      <td>0.0</td>\n",
              "      <td>NaN</td>\n",
              "      <td>0.0</td>\n",
              "      <td>0.0</td>\n",
              "    </tr>\n",
              "    <tr>\n",
              "      <th>6</th>\n",
              "      <td>27549</td>\n",
              "      <td>1984</td>\n",
              "      <td>AM General</td>\n",
              "      <td>FJ8c Post Office</td>\n",
              "      <td>Special Purpose Vehicle 2WD</td>\n",
              "      <td>2-Wheel Drive</td>\n",
              "      <td>Automatic 3-Speed</td>\n",
              "      <td>NaN</td>\n",
              "      <td>1831</td>\n",
              "      <td>(FFS)</td>\n",
              "      <td>...</td>\n",
              "      <td>0.0</td>\n",
              "      <td>0</td>\n",
              "      <td>0</td>\n",
              "      <td>0</td>\n",
              "      <td>0</td>\n",
              "      <td>0.0</td>\n",
              "      <td>0.0</td>\n",
              "      <td>NaN</td>\n",
              "      <td>0.0</td>\n",
              "      <td>0.0</td>\n",
              "    </tr>\n",
              "    <tr>\n",
              "      <th>7</th>\n",
              "      <td>28425</td>\n",
              "      <td>1984</td>\n",
              "      <td>AM General</td>\n",
              "      <td>FJ8c Post Office</td>\n",
              "      <td>Special Purpose Vehicle 2WD</td>\n",
              "      <td>2-Wheel Drive</td>\n",
              "      <td>Automatic 3-Speed</td>\n",
              "      <td>NaN</td>\n",
              "      <td>1881</td>\n",
              "      <td>(FFS) CA model</td>\n",
              "      <td>...</td>\n",
              "      <td>0.0</td>\n",
              "      <td>0</td>\n",
              "      <td>0</td>\n",
              "      <td>0</td>\n",
              "      <td>0</td>\n",
              "      <td>0.0</td>\n",
              "      <td>0.0</td>\n",
              "      <td>NaN</td>\n",
              "      <td>0.0</td>\n",
              "      <td>0.0</td>\n",
              "    </tr>\n",
              "    <tr>\n",
              "      <th>8</th>\n",
              "      <td>27593</td>\n",
              "      <td>1984</td>\n",
              "      <td>American Motors Corporation</td>\n",
              "      <td>Eagle 4WD</td>\n",
              "      <td>Special Purpose Vehicle 4WD</td>\n",
              "      <td>4-Wheel or All-Wheel Drive</td>\n",
              "      <td>Automatic 3-Speed</td>\n",
              "      <td>NaN</td>\n",
              "      <td>1524</td>\n",
              "      <td>(FFS)</td>\n",
              "      <td>...</td>\n",
              "      <td>0.0</td>\n",
              "      <td>0</td>\n",
              "      <td>0</td>\n",
              "      <td>0</td>\n",
              "      <td>0</td>\n",
              "      <td>0.0</td>\n",
              "      <td>0.0</td>\n",
              "      <td>NaN</td>\n",
              "      <td>0.0</td>\n",
              "      <td>0.0</td>\n",
              "    </tr>\n",
              "    <tr>\n",
              "      <th>9</th>\n",
              "      <td>28455</td>\n",
              "      <td>1984</td>\n",
              "      <td>American Motors Corporation</td>\n",
              "      <td>Eagle 4WD</td>\n",
              "      <td>Special Purpose Vehicle 4WD</td>\n",
              "      <td>4-Wheel or All-Wheel Drive</td>\n",
              "      <td>Automatic 3-Speed</td>\n",
              "      <td>NaN</td>\n",
              "      <td>1574</td>\n",
              "      <td>(FFS) CA model</td>\n",
              "      <td>...</td>\n",
              "      <td>0.0</td>\n",
              "      <td>0</td>\n",
              "      <td>0</td>\n",
              "      <td>0</td>\n",
              "      <td>0</td>\n",
              "      <td>0.0</td>\n",
              "      <td>0.0</td>\n",
              "      <td>NaN</td>\n",
              "      <td>0.0</td>\n",
              "      <td>0.0</td>\n",
              "    </tr>\n",
              "    <tr>\n",
              "      <th>10</th>\n",
              "      <td>27591</td>\n",
              "      <td>1984</td>\n",
              "      <td>American Motors Corporation</td>\n",
              "      <td>Eagle 4WD</td>\n",
              "      <td>Special Purpose Vehicle 4WD</td>\n",
              "      <td>4-Wheel or All-Wheel Drive</td>\n",
              "      <td>Manual 4-Speed</td>\n",
              "      <td>NaN</td>\n",
              "      <td>1405</td>\n",
              "      <td>(FFS)</td>\n",
              "      <td>...</td>\n",
              "      <td>0.0</td>\n",
              "      <td>0</td>\n",
              "      <td>0</td>\n",
              "      <td>0</td>\n",
              "      <td>0</td>\n",
              "      <td>0.0</td>\n",
              "      <td>0.0</td>\n",
              "      <td>NaN</td>\n",
              "      <td>0.0</td>\n",
              "      <td>0.0</td>\n",
              "    </tr>\n",
              "    <tr>\n",
              "      <th>11</th>\n",
              "      <td>27594</td>\n",
              "      <td>1984</td>\n",
              "      <td>American Motors Corporation</td>\n",
              "      <td>Eagle 4WD</td>\n",
              "      <td>Special Purpose Vehicle 4WD</td>\n",
              "      <td>4-Wheel or All-Wheel Drive</td>\n",
              "      <td>Manual 4-Speed</td>\n",
              "      <td>NaN</td>\n",
              "      <td>1504</td>\n",
              "      <td>(FFS)</td>\n",
              "      <td>...</td>\n",
              "      <td>0.0</td>\n",
              "      <td>0</td>\n",
              "      <td>0</td>\n",
              "      <td>0</td>\n",
              "      <td>0</td>\n",
              "      <td>0.0</td>\n",
              "      <td>0.0</td>\n",
              "      <td>NaN</td>\n",
              "      <td>0.0</td>\n",
              "      <td>0.0</td>\n",
              "    </tr>\n",
              "    <tr>\n",
              "      <th>12</th>\n",
              "      <td>28454</td>\n",
              "      <td>1984</td>\n",
              "      <td>American Motors Corporation</td>\n",
              "      <td>Eagle 4WD</td>\n",
              "      <td>Special Purpose Vehicle 4WD</td>\n",
              "      <td>4-Wheel or All-Wheel Drive</td>\n",
              "      <td>Manual 4-Speed</td>\n",
              "      <td>NaN</td>\n",
              "      <td>1455</td>\n",
              "      <td>(FFS)(SIL) CA model</td>\n",
              "      <td>...</td>\n",
              "      <td>0.0</td>\n",
              "      <td>0</td>\n",
              "      <td>0</td>\n",
              "      <td>0</td>\n",
              "      <td>0</td>\n",
              "      <td>0.0</td>\n",
              "      <td>0.0</td>\n",
              "      <td>NaN</td>\n",
              "      <td>0.0</td>\n",
              "      <td>0.0</td>\n",
              "    </tr>\n",
              "    <tr>\n",
              "      <th>13</th>\n",
              "      <td>28456</td>\n",
              "      <td>1984</td>\n",
              "      <td>American Motors Corporation</td>\n",
              "      <td>Eagle 4WD</td>\n",
              "      <td>Special Purpose Vehicle 4WD</td>\n",
              "      <td>4-Wheel or All-Wheel Drive</td>\n",
              "      <td>Manual 4-Speed</td>\n",
              "      <td>NaN</td>\n",
              "      <td>1554</td>\n",
              "      <td>(FFS) CA model</td>\n",
              "      <td>...</td>\n",
              "      <td>0.0</td>\n",
              "      <td>0</td>\n",
              "      <td>0</td>\n",
              "      <td>0</td>\n",
              "      <td>0</td>\n",
              "      <td>0.0</td>\n",
              "      <td>0.0</td>\n",
              "      <td>NaN</td>\n",
              "      <td>0.0</td>\n",
              "      <td>0.0</td>\n",
              "    </tr>\n",
              "    <tr>\n",
              "      <th>14</th>\n",
              "      <td>27592</td>\n",
              "      <td>1984</td>\n",
              "      <td>American Motors Corporation</td>\n",
              "      <td>Eagle 4WD</td>\n",
              "      <td>Special Purpose Vehicle 4WD</td>\n",
              "      <td>4-Wheel or All-Wheel Drive</td>\n",
              "      <td>Manual 5-Speed</td>\n",
              "      <td>NaN</td>\n",
              "      <td>1420</td>\n",
              "      <td>(FFS)</td>\n",
              "      <td>...</td>\n",
              "      <td>0.0</td>\n",
              "      <td>0</td>\n",
              "      <td>0</td>\n",
              "      <td>0</td>\n",
              "      <td>0</td>\n",
              "      <td>0.0</td>\n",
              "      <td>0.0</td>\n",
              "      <td>NaN</td>\n",
              "      <td>0.0</td>\n",
              "      <td>0.0</td>\n",
              "    </tr>\n",
              "  </tbody>\n",
              "</table>\n",
              "<p>15 rows × 81 columns</p>\n",
              "</div>\n",
              "    <div class=\"colab-df-buttons\">\n",
              "\n",
              "  <div class=\"colab-df-container\">\n",
              "    <button class=\"colab-df-convert\" onclick=\"convertToInteractive('df-f59a0ed5-38a4-410c-a485-5b2abd9480e4')\"\n",
              "            title=\"Convert this dataframe to an interactive table.\"\n",
              "            style=\"display:none;\">\n",
              "\n",
              "  <svg xmlns=\"http://www.w3.org/2000/svg\" height=\"24px\" viewBox=\"0 -960 960 960\">\n",
              "    <path d=\"M120-120v-720h720v720H120Zm60-500h600v-160H180v160Zm220 220h160v-160H400v160Zm0 220h160v-160H400v160ZM180-400h160v-160H180v160Zm440 0h160v-160H620v160ZM180-180h160v-160H180v160Zm440 0h160v-160H620v160Z\"/>\n",
              "  </svg>\n",
              "    </button>\n",
              "\n",
              "  <style>\n",
              "    .colab-df-container {\n",
              "      display:flex;\n",
              "      gap: 12px;\n",
              "    }\n",
              "\n",
              "    .colab-df-convert {\n",
              "      background-color: #E8F0FE;\n",
              "      border: none;\n",
              "      border-radius: 50%;\n",
              "      cursor: pointer;\n",
              "      display: none;\n",
              "      fill: #1967D2;\n",
              "      height: 32px;\n",
              "      padding: 0 0 0 0;\n",
              "      width: 32px;\n",
              "    }\n",
              "\n",
              "    .colab-df-convert:hover {\n",
              "      background-color: #E2EBFA;\n",
              "      box-shadow: 0px 1px 2px rgba(60, 64, 67, 0.3), 0px 1px 3px 1px rgba(60, 64, 67, 0.15);\n",
              "      fill: #174EA6;\n",
              "    }\n",
              "\n",
              "    .colab-df-buttons div {\n",
              "      margin-bottom: 4px;\n",
              "    }\n",
              "\n",
              "    [theme=dark] .colab-df-convert {\n",
              "      background-color: #3B4455;\n",
              "      fill: #D2E3FC;\n",
              "    }\n",
              "\n",
              "    [theme=dark] .colab-df-convert:hover {\n",
              "      background-color: #434B5C;\n",
              "      box-shadow: 0px 1px 3px 1px rgba(0, 0, 0, 0.15);\n",
              "      filter: drop-shadow(0px 1px 2px rgba(0, 0, 0, 0.3));\n",
              "      fill: #FFFFFF;\n",
              "    }\n",
              "  </style>\n",
              "\n",
              "    <script>\n",
              "      const buttonEl =\n",
              "        document.querySelector('#df-f59a0ed5-38a4-410c-a485-5b2abd9480e4 button.colab-df-convert');\n",
              "      buttonEl.style.display =\n",
              "        google.colab.kernel.accessAllowed ? 'block' : 'none';\n",
              "\n",
              "      async function convertToInteractive(key) {\n",
              "        const element = document.querySelector('#df-f59a0ed5-38a4-410c-a485-5b2abd9480e4');\n",
              "        const dataTable =\n",
              "          await google.colab.kernel.invokeFunction('convertToInteractive',\n",
              "                                                    [key], {});\n",
              "        if (!dataTable) return;\n",
              "\n",
              "        const docLinkHtml = 'Like what you see? Visit the ' +\n",
              "          '<a target=\"_blank\" href=https://colab.research.google.com/notebooks/data_table.ipynb>data table notebook</a>'\n",
              "          + ' to learn more about interactive tables.';\n",
              "        element.innerHTML = '';\n",
              "        dataTable['output_type'] = 'display_data';\n",
              "        await google.colab.output.renderOutput(dataTable, element);\n",
              "        const docLink = document.createElement('div');\n",
              "        docLink.innerHTML = docLinkHtml;\n",
              "        element.appendChild(docLink);\n",
              "      }\n",
              "    </script>\n",
              "  </div>\n",
              "\n",
              "\n",
              "<div id=\"df-0e29535e-a079-44d0-a816-a9cb95df87c3\">\n",
              "  <button class=\"colab-df-quickchart\" onclick=\"quickchart('df-0e29535e-a079-44d0-a816-a9cb95df87c3')\"\n",
              "            title=\"Suggest charts\"\n",
              "            style=\"display:none;\">\n",
              "\n",
              "<svg xmlns=\"http://www.w3.org/2000/svg\" height=\"24px\"viewBox=\"0 0 24 24\"\n",
              "     width=\"24px\">\n",
              "    <g>\n",
              "        <path d=\"M19 3H5c-1.1 0-2 .9-2 2v14c0 1.1.9 2 2 2h14c1.1 0 2-.9 2-2V5c0-1.1-.9-2-2-2zM9 17H7v-7h2v7zm4 0h-2V7h2v10zm4 0h-2v-4h2v4z\"/>\n",
              "    </g>\n",
              "</svg>\n",
              "  </button>\n",
              "\n",
              "<style>\n",
              "  .colab-df-quickchart {\n",
              "      --bg-color: #E8F0FE;\n",
              "      --fill-color: #1967D2;\n",
              "      --hover-bg-color: #E2EBFA;\n",
              "      --hover-fill-color: #174EA6;\n",
              "      --disabled-fill-color: #AAA;\n",
              "      --disabled-bg-color: #DDD;\n",
              "  }\n",
              "\n",
              "  [theme=dark] .colab-df-quickchart {\n",
              "      --bg-color: #3B4455;\n",
              "      --fill-color: #D2E3FC;\n",
              "      --hover-bg-color: #434B5C;\n",
              "      --hover-fill-color: #FFFFFF;\n",
              "      --disabled-bg-color: #3B4455;\n",
              "      --disabled-fill-color: #666;\n",
              "  }\n",
              "\n",
              "  .colab-df-quickchart {\n",
              "    background-color: var(--bg-color);\n",
              "    border: none;\n",
              "    border-radius: 50%;\n",
              "    cursor: pointer;\n",
              "    display: none;\n",
              "    fill: var(--fill-color);\n",
              "    height: 32px;\n",
              "    padding: 0;\n",
              "    width: 32px;\n",
              "  }\n",
              "\n",
              "  .colab-df-quickchart:hover {\n",
              "    background-color: var(--hover-bg-color);\n",
              "    box-shadow: 0 1px 2px rgba(60, 64, 67, 0.3), 0 1px 3px 1px rgba(60, 64, 67, 0.15);\n",
              "    fill: var(--button-hover-fill-color);\n",
              "  }\n",
              "\n",
              "  .colab-df-quickchart-complete:disabled,\n",
              "  .colab-df-quickchart-complete:disabled:hover {\n",
              "    background-color: var(--disabled-bg-color);\n",
              "    fill: var(--disabled-fill-color);\n",
              "    box-shadow: none;\n",
              "  }\n",
              "\n",
              "  .colab-df-spinner {\n",
              "    border: 2px solid var(--fill-color);\n",
              "    border-color: transparent;\n",
              "    border-bottom-color: var(--fill-color);\n",
              "    animation:\n",
              "      spin 1s steps(1) infinite;\n",
              "  }\n",
              "\n",
              "  @keyframes spin {\n",
              "    0% {\n",
              "      border-color: transparent;\n",
              "      border-bottom-color: var(--fill-color);\n",
              "      border-left-color: var(--fill-color);\n",
              "    }\n",
              "    20% {\n",
              "      border-color: transparent;\n",
              "      border-left-color: var(--fill-color);\n",
              "      border-top-color: var(--fill-color);\n",
              "    }\n",
              "    30% {\n",
              "      border-color: transparent;\n",
              "      border-left-color: var(--fill-color);\n",
              "      border-top-color: var(--fill-color);\n",
              "      border-right-color: var(--fill-color);\n",
              "    }\n",
              "    40% {\n",
              "      border-color: transparent;\n",
              "      border-right-color: var(--fill-color);\n",
              "      border-top-color: var(--fill-color);\n",
              "    }\n",
              "    60% {\n",
              "      border-color: transparent;\n",
              "      border-right-color: var(--fill-color);\n",
              "    }\n",
              "    80% {\n",
              "      border-color: transparent;\n",
              "      border-right-color: var(--fill-color);\n",
              "      border-bottom-color: var(--fill-color);\n",
              "    }\n",
              "    90% {\n",
              "      border-color: transparent;\n",
              "      border-bottom-color: var(--fill-color);\n",
              "    }\n",
              "  }\n",
              "</style>\n",
              "\n",
              "  <script>\n",
              "    async function quickchart(key) {\n",
              "      const quickchartButtonEl =\n",
              "        document.querySelector('#' + key + ' button');\n",
              "      quickchartButtonEl.disabled = true;  // To prevent multiple clicks.\n",
              "      quickchartButtonEl.classList.add('colab-df-spinner');\n",
              "      try {\n",
              "        const charts = await google.colab.kernel.invokeFunction(\n",
              "            'suggestCharts', [key], {});\n",
              "      } catch (error) {\n",
              "        console.error('Error during call to suggestCharts:', error);\n",
              "      }\n",
              "      quickchartButtonEl.classList.remove('colab-df-spinner');\n",
              "      quickchartButtonEl.classList.add('colab-df-quickchart-complete');\n",
              "    }\n",
              "    (() => {\n",
              "      let quickchartButtonEl =\n",
              "        document.querySelector('#df-0e29535e-a079-44d0-a816-a9cb95df87c3 button');\n",
              "      quickchartButtonEl.style.display =\n",
              "        google.colab.kernel.accessAllowed ? 'block' : 'none';\n",
              "    })();\n",
              "  </script>\n",
              "</div>\n",
              "\n",
              "    </div>\n",
              "  </div>\n"
            ],
            "application/vnd.google.colaboratory.intrinsic+json": {
              "type": "dataframe",
              "variable_name": "data"
            }
          },
          "metadata": {},
          "execution_count": 3
        }
      ]
    },
    {
      "cell_type": "code",
      "source": [
        "liste=[]\n",
        "for column in data.columns:\n",
        "    liste.append(column)\n",
        "print(liste)"
      ],
      "metadata": {
        "execution": {
          "iopub.status.busy": "2024-04-10T18:42:12.850258Z",
          "iopub.execute_input": "2024-04-10T18:42:12.850536Z",
          "iopub.status.idle": "2024-04-10T18:42:12.855413Z",
          "shell.execute_reply.started": "2024-04-10T18:42:12.850511Z",
          "shell.execute_reply": "2024-04-10T18:42:12.85478Z"
        },
        "trusted": true,
        "colab": {
          "base_uri": "https://localhost:8080/"
        },
        "id": "il_HxukLXZqJ",
        "outputId": "bc1c4a9c-7e46-4429-a529-aed165eb71f6"
      },
      "execution_count": 4,
      "outputs": [
        {
          "output_type": "stream",
          "name": "stdout",
          "text": [
            "['vehicle_id', 'year', 'make', 'model', 'class', 'drive', 'transmission', 'transmission_type', 'engine_index', 'engine_descriptor', 'engine_cylinders', 'engine_displacement', 'turbocharger', 'supercharger', 'fuel_type', 'fuel_type_1', 'fuel_type_2', 'city_mpg_ft1', 'unrounded_city_mpg_ft1', 'city_mpg_ft2', 'unrounded_city_mpg_ft2', 'city_gasoline_consumption_cd', 'city_electricity_consumption', 'city_utility_factor', 'highway_mpg_ft1', 'unrounded_highway_mpg_ft1', 'highway_mpg_ft2', 'unrounded_highway_mpg_ft2', 'highway_gasoline_consumption_cd', 'highway_electricity_consumption', 'highway_utility_factor', 'unadjusted_city_mpg_ft1', 'unadjusted_highway_mpg_ft1', 'unadjusted_city_mpg_ft2', 'unadjusted_highway_mpg_ft2', 'combined_mpg_ft1', 'unrounded_combined_mpg_ft1', 'combined_mpg_ft2', 'unrounded_combined_mpg_ft2', 'combined_electricity_consumption', 'combined_gasoline_consumption_cd', 'combined_utility_factor', 'annual_fuel_cost_ft1', 'annual_fuel_cost_ft2', 'gas_guzzler_tax', 'save_or_spend_5_year', 'annual_consumption_in_barrels_ft1', 'annual_consumption_in_barrels_ft2', 'tailpipe_co2_ft1', 'tailpipe_co2_in_grams_mile_ft1', 'tailpipe_co2_ft2', 'tailpipe_co2_in_grams_mile_ft2', 'fuel_economy_score', 'ghg_score', 'ghg_score_alt_fuel', 'my_mpg_data', 'x2d_passenger_volume', 'x2d_luggage_volume', 'x4d_passenger_volume', 'x4d_luggage_volume', 'hatchback_passenger_volume', 'hatchback_luggage_volume', 'start_stop_technology', 'alternative_fuel_technology', 'electric_motor', 'manufacturer_code', 'gasoline_electricity_blended_cd', 'vehicle_charger', 'alternate_charger', 'hours_to_charge_120v', 'hours_to_charge_240v', 'hours_to_charge_ac_240v', 'composite_city_mpg', 'composite_highway_mpg', 'composite_combined_mpg', 'range_ft1', 'city_range_ft1', 'highway_range_ft1', 'range_ft2', 'city_range_ft2', 'highway_range_ft2']\n"
          ]
        }
      ]
    },
    {
      "cell_type": "code",
      "source": [
        "data.drop(\"vehicle_id\",axis=1,inplace=True)\n"
      ],
      "metadata": {
        "execution": {
          "iopub.status.busy": "2024-04-10T18:42:12.85734Z",
          "iopub.execute_input": "2024-04-10T18:42:12.857928Z",
          "iopub.status.idle": "2024-04-10T18:42:12.873782Z",
          "shell.execute_reply.started": "2024-04-10T18:42:12.8579Z",
          "shell.execute_reply": "2024-04-10T18:42:12.872962Z"
        },
        "trusted": true,
        "id": "V3dVEsIlXZqK"
      },
      "execution_count": 5,
      "outputs": []
    },
    {
      "cell_type": "code",
      "source": [
        "data.drop(\"turbocharger\",axis=1,inplace=True)"
      ],
      "metadata": {
        "execution": {
          "iopub.status.busy": "2024-04-10T18:42:12.875006Z",
          "iopub.execute_input": "2024-04-10T18:42:12.87529Z",
          "iopub.status.idle": "2024-04-10T18:42:12.89611Z",
          "shell.execute_reply.started": "2024-04-10T18:42:12.875264Z",
          "shell.execute_reply": "2024-04-10T18:42:12.895044Z"
        },
        "trusted": true,
        "id": "fzuQ3SH1XZqL"
      },
      "execution_count": 6,
      "outputs": []
    },
    {
      "cell_type": "code",
      "source": [
        "data.drop(\"fuel_type_2\",axis=1,inplace=True)"
      ],
      "metadata": {
        "execution": {
          "iopub.status.busy": "2024-04-10T18:42:12.897436Z",
          "iopub.execute_input": "2024-04-10T18:42:12.897849Z",
          "iopub.status.idle": "2024-04-10T18:42:12.912833Z",
          "shell.execute_reply.started": "2024-04-10T18:42:12.897809Z",
          "shell.execute_reply": "2024-04-10T18:42:12.911996Z"
        },
        "trusted": true,
        "id": "lffb68FnXZqM"
      },
      "execution_count": 7,
      "outputs": []
    },
    {
      "cell_type": "code",
      "source": [
        "data.drop(\"city_electricity_consumption\",axis=1,inplace=True)"
      ],
      "metadata": {
        "execution": {
          "iopub.status.busy": "2024-04-10T18:42:12.913847Z",
          "iopub.execute_input": "2024-04-10T18:42:12.914118Z",
          "iopub.status.idle": "2024-04-10T18:42:12.928195Z",
          "shell.execute_reply.started": "2024-04-10T18:42:12.914094Z",
          "shell.execute_reply": "2024-04-10T18:42:12.927286Z"
        },
        "trusted": true,
        "id": "N5MkGgbQXZqM"
      },
      "execution_count": 8,
      "outputs": []
    },
    {
      "cell_type": "code",
      "source": [
        "data.drop(\"highway_electricity_consumption\",axis=1,inplace=True)"
      ],
      "metadata": {
        "execution": {
          "iopub.status.busy": "2024-04-10T18:42:12.92928Z",
          "iopub.execute_input": "2024-04-10T18:42:12.929628Z",
          "iopub.status.idle": "2024-04-10T18:42:12.944108Z",
          "shell.execute_reply.started": "2024-04-10T18:42:12.929603Z",
          "shell.execute_reply": "2024-04-10T18:42:12.943126Z"
        },
        "trusted": true,
        "id": "uprGF4rQXZqN"
      },
      "execution_count": 9,
      "outputs": []
    },
    {
      "cell_type": "code",
      "source": [
        "data.drop(\"combined_electricity_consumption\",axis=1,inplace=True)"
      ],
      "metadata": {
        "execution": {
          "iopub.status.busy": "2024-04-10T18:42:12.945482Z",
          "iopub.execute_input": "2024-04-10T18:42:12.946333Z",
          "iopub.status.idle": "2024-04-10T18:42:12.959918Z",
          "shell.execute_reply.started": "2024-04-10T18:42:12.946302Z",
          "shell.execute_reply": "2024-04-10T18:42:12.959044Z"
        },
        "trusted": true,
        "id": "ShJdLU0TXZqN"
      },
      "execution_count": 10,
      "outputs": []
    },
    {
      "cell_type": "code",
      "source": [
        "data.drop(\"electric_motor\",axis=1,inplace=True)"
      ],
      "metadata": {
        "execution": {
          "iopub.status.busy": "2024-04-10T18:42:12.961041Z",
          "iopub.execute_input": "2024-04-10T18:42:12.961353Z",
          "iopub.status.idle": "2024-04-10T18:42:12.975521Z",
          "shell.execute_reply.started": "2024-04-10T18:42:12.961319Z",
          "shell.execute_reply": "2024-04-10T18:42:12.974457Z"
        },
        "trusted": true,
        "id": "0qWwLlq0XZqO"
      },
      "execution_count": 11,
      "outputs": []
    },
    {
      "cell_type": "code",
      "source": [
        "data.drop(\"vehicle_charger\",axis=1,inplace=True)"
      ],
      "metadata": {
        "execution": {
          "iopub.status.busy": "2024-04-10T18:42:12.976881Z",
          "iopub.execute_input": "2024-04-10T18:42:12.977183Z",
          "iopub.status.idle": "2024-04-10T18:42:12.990632Z",
          "shell.execute_reply.started": "2024-04-10T18:42:12.977156Z",
          "shell.execute_reply": "2024-04-10T18:42:12.989905Z"
        },
        "trusted": true,
        "id": "BVTHnCyCXZqP"
      },
      "execution_count": 12,
      "outputs": []
    },
    {
      "cell_type": "code",
      "source": [
        "data.drop(\"alternate_charger\",axis=1,inplace=True)"
      ],
      "metadata": {
        "execution": {
          "iopub.status.busy": "2024-04-10T18:42:12.994285Z",
          "iopub.execute_input": "2024-04-10T18:42:12.995266Z",
          "iopub.status.idle": "2024-04-10T18:42:13.009502Z",
          "shell.execute_reply.started": "2024-04-10T18:42:12.995235Z",
          "shell.execute_reply": "2024-04-10T18:42:13.008454Z"
        },
        "trusted": true,
        "id": "koDF5dNlXZqP"
      },
      "execution_count": 13,
      "outputs": []
    },
    {
      "cell_type": "code",
      "source": [
        "data.drop(\"hours_to_charge_120v\",axis=1,inplace=True)"
      ],
      "metadata": {
        "execution": {
          "iopub.status.busy": "2024-04-10T18:42:13.0107Z",
          "iopub.execute_input": "2024-04-10T18:42:13.010993Z",
          "iopub.status.idle": "2024-04-10T18:42:13.02491Z",
          "shell.execute_reply.started": "2024-04-10T18:42:13.010968Z",
          "shell.execute_reply": "2024-04-10T18:42:13.023901Z"
        },
        "trusted": true,
        "id": "BKz_JIVSXZqQ"
      },
      "execution_count": 14,
      "outputs": []
    },
    {
      "cell_type": "code",
      "source": [
        "data.drop(\"hours_to_charge_240v\",axis=1,inplace=True)"
      ],
      "metadata": {
        "execution": {
          "iopub.status.busy": "2024-04-10T18:42:13.026152Z",
          "iopub.execute_input": "2024-04-10T18:42:13.026522Z",
          "iopub.status.idle": "2024-04-10T18:42:13.039266Z",
          "shell.execute_reply.started": "2024-04-10T18:42:13.026495Z",
          "shell.execute_reply": "2024-04-10T18:42:13.038501Z"
        },
        "trusted": true,
        "id": "qEONCg6VXZqQ"
      },
      "execution_count": 15,
      "outputs": []
    },
    {
      "cell_type": "code",
      "source": [
        "data.drop(\"hours_to_charge_ac_240v\",axis=1,inplace=True)"
      ],
      "metadata": {
        "execution": {
          "iopub.status.busy": "2024-04-10T18:42:13.040549Z",
          "iopub.execute_input": "2024-04-10T18:42:13.041001Z",
          "iopub.status.idle": "2024-04-10T18:42:13.054679Z",
          "shell.execute_reply.started": "2024-04-10T18:42:13.040965Z",
          "shell.execute_reply": "2024-04-10T18:42:13.053618Z"
        },
        "trusted": true,
        "id": "kJ-W13VkXZqR"
      },
      "execution_count": 16,
      "outputs": []
    },
    {
      "cell_type": "code",
      "source": [
        "data.drop(\"range_ft2\",axis=1,inplace=True)"
      ],
      "metadata": {
        "execution": {
          "iopub.status.busy": "2024-04-10T18:42:13.055843Z",
          "iopub.execute_input": "2024-04-10T18:42:13.056133Z",
          "iopub.status.idle": "2024-04-10T18:42:13.069147Z",
          "shell.execute_reply.started": "2024-04-10T18:42:13.056107Z",
          "shell.execute_reply": "2024-04-10T18:42:13.068182Z"
        },
        "trusted": true,
        "id": "oZiiRz0SXZqR"
      },
      "execution_count": 17,
      "outputs": []
    },
    {
      "cell_type": "code",
      "source": [
        "data.head()"
      ],
      "metadata": {
        "execution": {
          "iopub.status.busy": "2024-04-10T18:42:13.070219Z",
          "iopub.execute_input": "2024-04-10T18:42:13.070502Z",
          "iopub.status.idle": "2024-04-10T18:42:13.092879Z",
          "shell.execute_reply.started": "2024-04-10T18:42:13.070476Z",
          "shell.execute_reply": "2024-04-10T18:42:13.091874Z"
        },
        "trusted": true,
        "colab": {
          "base_uri": "https://localhost:8080/",
          "height": 411
        },
        "id": "MtyAsOruXZqS",
        "outputId": "7a2308c8-3829-49a3-c4dd-825407709916"
      },
      "execution_count": 18,
      "outputs": [
        {
          "output_type": "execute_result",
          "data": {
            "text/plain": [
              "   year        make               model                        class  \\\n",
              "0  1984  Alfa Romeo           GT V6 2.5             Minicompact Cars   \n",
              "1  1984  Alfa Romeo           GT V6 2.5             Minicompact Cars   \n",
              "2  1984  Alfa Romeo  Spider Veloce 2000                  Two Seaters   \n",
              "3  1984  Alfa Romeo  Spider Veloce 2000                  Two Seaters   \n",
              "4  1984  AM General   DJ Po Vehicle 2WD  Special Purpose Vehicle 2WD   \n",
              "\n",
              "           drive       transmission transmission_type  engine_index  \\\n",
              "0            NaN     Manual 5-Speed               NaN          9001   \n",
              "1            NaN     Manual 5-Speed               NaN          9005   \n",
              "2            NaN     Manual 5-Speed               NaN          9002   \n",
              "3            NaN     Manual 5-Speed               NaN          9006   \n",
              "4  2-Wheel Drive  Automatic 3-Speed               NaN          1830   \n",
              "\n",
              "  engine_descriptor  engine_cylinders  ...  manufacturer_code  \\\n",
              "0             (FFS)               6.0  ...                NaN   \n",
              "1    (FFS) CA model               6.0  ...                NaN   \n",
              "2             (FFS)               4.0  ...                NaN   \n",
              "3    (FFS) CA model               4.0  ...                NaN   \n",
              "4             (FFS)               4.0  ...                NaN   \n",
              "\n",
              "   gasoline_electricity_blended_cd composite_city_mpg composite_highway_mpg  \\\n",
              "0                            False                  0                     0   \n",
              "1                            False                  0                     0   \n",
              "2                            False                  0                     0   \n",
              "3                            False                  0                     0   \n",
              "4                            False                  0                     0   \n",
              "\n",
              "   composite_combined_mpg  range_ft1  city_range_ft1  highway_range_ft1  \\\n",
              "0                       0          0             0.0                0.0   \n",
              "1                       0          0             0.0                0.0   \n",
              "2                       0          0             0.0                0.0   \n",
              "3                       0          0             0.0                0.0   \n",
              "4                       0          0             0.0                0.0   \n",
              "\n",
              "   city_range_ft2  highway_range_ft2  \n",
              "0             0.0                0.0  \n",
              "1             0.0                0.0  \n",
              "2             0.0                0.0  \n",
              "3             0.0                0.0  \n",
              "4             0.0                0.0  \n",
              "\n",
              "[5 rows x 68 columns]"
            ],
            "text/html": [
              "\n",
              "  <div id=\"df-04347122-bfac-4fc5-a2b3-f749f84bd37d\" class=\"colab-df-container\">\n",
              "    <div>\n",
              "<style scoped>\n",
              "    .dataframe tbody tr th:only-of-type {\n",
              "        vertical-align: middle;\n",
              "    }\n",
              "\n",
              "    .dataframe tbody tr th {\n",
              "        vertical-align: top;\n",
              "    }\n",
              "\n",
              "    .dataframe thead th {\n",
              "        text-align: right;\n",
              "    }\n",
              "</style>\n",
              "<table border=\"1\" class=\"dataframe\">\n",
              "  <thead>\n",
              "    <tr style=\"text-align: right;\">\n",
              "      <th></th>\n",
              "      <th>year</th>\n",
              "      <th>make</th>\n",
              "      <th>model</th>\n",
              "      <th>class</th>\n",
              "      <th>drive</th>\n",
              "      <th>transmission</th>\n",
              "      <th>transmission_type</th>\n",
              "      <th>engine_index</th>\n",
              "      <th>engine_descriptor</th>\n",
              "      <th>engine_cylinders</th>\n",
              "      <th>...</th>\n",
              "      <th>manufacturer_code</th>\n",
              "      <th>gasoline_electricity_blended_cd</th>\n",
              "      <th>composite_city_mpg</th>\n",
              "      <th>composite_highway_mpg</th>\n",
              "      <th>composite_combined_mpg</th>\n",
              "      <th>range_ft1</th>\n",
              "      <th>city_range_ft1</th>\n",
              "      <th>highway_range_ft1</th>\n",
              "      <th>city_range_ft2</th>\n",
              "      <th>highway_range_ft2</th>\n",
              "    </tr>\n",
              "  </thead>\n",
              "  <tbody>\n",
              "    <tr>\n",
              "      <th>0</th>\n",
              "      <td>1984</td>\n",
              "      <td>Alfa Romeo</td>\n",
              "      <td>GT V6 2.5</td>\n",
              "      <td>Minicompact Cars</td>\n",
              "      <td>NaN</td>\n",
              "      <td>Manual 5-Speed</td>\n",
              "      <td>NaN</td>\n",
              "      <td>9001</td>\n",
              "      <td>(FFS)</td>\n",
              "      <td>6.0</td>\n",
              "      <td>...</td>\n",
              "      <td>NaN</td>\n",
              "      <td>False</td>\n",
              "      <td>0</td>\n",
              "      <td>0</td>\n",
              "      <td>0</td>\n",
              "      <td>0</td>\n",
              "      <td>0.0</td>\n",
              "      <td>0.0</td>\n",
              "      <td>0.0</td>\n",
              "      <td>0.0</td>\n",
              "    </tr>\n",
              "    <tr>\n",
              "      <th>1</th>\n",
              "      <td>1984</td>\n",
              "      <td>Alfa Romeo</td>\n",
              "      <td>GT V6 2.5</td>\n",
              "      <td>Minicompact Cars</td>\n",
              "      <td>NaN</td>\n",
              "      <td>Manual 5-Speed</td>\n",
              "      <td>NaN</td>\n",
              "      <td>9005</td>\n",
              "      <td>(FFS) CA model</td>\n",
              "      <td>6.0</td>\n",
              "      <td>...</td>\n",
              "      <td>NaN</td>\n",
              "      <td>False</td>\n",
              "      <td>0</td>\n",
              "      <td>0</td>\n",
              "      <td>0</td>\n",
              "      <td>0</td>\n",
              "      <td>0.0</td>\n",
              "      <td>0.0</td>\n",
              "      <td>0.0</td>\n",
              "      <td>0.0</td>\n",
              "    </tr>\n",
              "    <tr>\n",
              "      <th>2</th>\n",
              "      <td>1984</td>\n",
              "      <td>Alfa Romeo</td>\n",
              "      <td>Spider Veloce 2000</td>\n",
              "      <td>Two Seaters</td>\n",
              "      <td>NaN</td>\n",
              "      <td>Manual 5-Speed</td>\n",
              "      <td>NaN</td>\n",
              "      <td>9002</td>\n",
              "      <td>(FFS)</td>\n",
              "      <td>4.0</td>\n",
              "      <td>...</td>\n",
              "      <td>NaN</td>\n",
              "      <td>False</td>\n",
              "      <td>0</td>\n",
              "      <td>0</td>\n",
              "      <td>0</td>\n",
              "      <td>0</td>\n",
              "      <td>0.0</td>\n",
              "      <td>0.0</td>\n",
              "      <td>0.0</td>\n",
              "      <td>0.0</td>\n",
              "    </tr>\n",
              "    <tr>\n",
              "      <th>3</th>\n",
              "      <td>1984</td>\n",
              "      <td>Alfa Romeo</td>\n",
              "      <td>Spider Veloce 2000</td>\n",
              "      <td>Two Seaters</td>\n",
              "      <td>NaN</td>\n",
              "      <td>Manual 5-Speed</td>\n",
              "      <td>NaN</td>\n",
              "      <td>9006</td>\n",
              "      <td>(FFS) CA model</td>\n",
              "      <td>4.0</td>\n",
              "      <td>...</td>\n",
              "      <td>NaN</td>\n",
              "      <td>False</td>\n",
              "      <td>0</td>\n",
              "      <td>0</td>\n",
              "      <td>0</td>\n",
              "      <td>0</td>\n",
              "      <td>0.0</td>\n",
              "      <td>0.0</td>\n",
              "      <td>0.0</td>\n",
              "      <td>0.0</td>\n",
              "    </tr>\n",
              "    <tr>\n",
              "      <th>4</th>\n",
              "      <td>1984</td>\n",
              "      <td>AM General</td>\n",
              "      <td>DJ Po Vehicle 2WD</td>\n",
              "      <td>Special Purpose Vehicle 2WD</td>\n",
              "      <td>2-Wheel Drive</td>\n",
              "      <td>Automatic 3-Speed</td>\n",
              "      <td>NaN</td>\n",
              "      <td>1830</td>\n",
              "      <td>(FFS)</td>\n",
              "      <td>4.0</td>\n",
              "      <td>...</td>\n",
              "      <td>NaN</td>\n",
              "      <td>False</td>\n",
              "      <td>0</td>\n",
              "      <td>0</td>\n",
              "      <td>0</td>\n",
              "      <td>0</td>\n",
              "      <td>0.0</td>\n",
              "      <td>0.0</td>\n",
              "      <td>0.0</td>\n",
              "      <td>0.0</td>\n",
              "    </tr>\n",
              "  </tbody>\n",
              "</table>\n",
              "<p>5 rows × 68 columns</p>\n",
              "</div>\n",
              "    <div class=\"colab-df-buttons\">\n",
              "\n",
              "  <div class=\"colab-df-container\">\n",
              "    <button class=\"colab-df-convert\" onclick=\"convertToInteractive('df-04347122-bfac-4fc5-a2b3-f749f84bd37d')\"\n",
              "            title=\"Convert this dataframe to an interactive table.\"\n",
              "            style=\"display:none;\">\n",
              "\n",
              "  <svg xmlns=\"http://www.w3.org/2000/svg\" height=\"24px\" viewBox=\"0 -960 960 960\">\n",
              "    <path d=\"M120-120v-720h720v720H120Zm60-500h600v-160H180v160Zm220 220h160v-160H400v160Zm0 220h160v-160H400v160ZM180-400h160v-160H180v160Zm440 0h160v-160H620v160ZM180-180h160v-160H180v160Zm440 0h160v-160H620v160Z\"/>\n",
              "  </svg>\n",
              "    </button>\n",
              "\n",
              "  <style>\n",
              "    .colab-df-container {\n",
              "      display:flex;\n",
              "      gap: 12px;\n",
              "    }\n",
              "\n",
              "    .colab-df-convert {\n",
              "      background-color: #E8F0FE;\n",
              "      border: none;\n",
              "      border-radius: 50%;\n",
              "      cursor: pointer;\n",
              "      display: none;\n",
              "      fill: #1967D2;\n",
              "      height: 32px;\n",
              "      padding: 0 0 0 0;\n",
              "      width: 32px;\n",
              "    }\n",
              "\n",
              "    .colab-df-convert:hover {\n",
              "      background-color: #E2EBFA;\n",
              "      box-shadow: 0px 1px 2px rgba(60, 64, 67, 0.3), 0px 1px 3px 1px rgba(60, 64, 67, 0.15);\n",
              "      fill: #174EA6;\n",
              "    }\n",
              "\n",
              "    .colab-df-buttons div {\n",
              "      margin-bottom: 4px;\n",
              "    }\n",
              "\n",
              "    [theme=dark] .colab-df-convert {\n",
              "      background-color: #3B4455;\n",
              "      fill: #D2E3FC;\n",
              "    }\n",
              "\n",
              "    [theme=dark] .colab-df-convert:hover {\n",
              "      background-color: #434B5C;\n",
              "      box-shadow: 0px 1px 3px 1px rgba(0, 0, 0, 0.15);\n",
              "      filter: drop-shadow(0px 1px 2px rgba(0, 0, 0, 0.3));\n",
              "      fill: #FFFFFF;\n",
              "    }\n",
              "  </style>\n",
              "\n",
              "    <script>\n",
              "      const buttonEl =\n",
              "        document.querySelector('#df-04347122-bfac-4fc5-a2b3-f749f84bd37d button.colab-df-convert');\n",
              "      buttonEl.style.display =\n",
              "        google.colab.kernel.accessAllowed ? 'block' : 'none';\n",
              "\n",
              "      async function convertToInteractive(key) {\n",
              "        const element = document.querySelector('#df-04347122-bfac-4fc5-a2b3-f749f84bd37d');\n",
              "        const dataTable =\n",
              "          await google.colab.kernel.invokeFunction('convertToInteractive',\n",
              "                                                    [key], {});\n",
              "        if (!dataTable) return;\n",
              "\n",
              "        const docLinkHtml = 'Like what you see? Visit the ' +\n",
              "          '<a target=\"_blank\" href=https://colab.research.google.com/notebooks/data_table.ipynb>data table notebook</a>'\n",
              "          + ' to learn more about interactive tables.';\n",
              "        element.innerHTML = '';\n",
              "        dataTable['output_type'] = 'display_data';\n",
              "        await google.colab.output.renderOutput(dataTable, element);\n",
              "        const docLink = document.createElement('div');\n",
              "        docLink.innerHTML = docLinkHtml;\n",
              "        element.appendChild(docLink);\n",
              "      }\n",
              "    </script>\n",
              "  </div>\n",
              "\n",
              "\n",
              "<div id=\"df-8f194916-d350-4082-b9f0-d2ed83c594b3\">\n",
              "  <button class=\"colab-df-quickchart\" onclick=\"quickchart('df-8f194916-d350-4082-b9f0-d2ed83c594b3')\"\n",
              "            title=\"Suggest charts\"\n",
              "            style=\"display:none;\">\n",
              "\n",
              "<svg xmlns=\"http://www.w3.org/2000/svg\" height=\"24px\"viewBox=\"0 0 24 24\"\n",
              "     width=\"24px\">\n",
              "    <g>\n",
              "        <path d=\"M19 3H5c-1.1 0-2 .9-2 2v14c0 1.1.9 2 2 2h14c1.1 0 2-.9 2-2V5c0-1.1-.9-2-2-2zM9 17H7v-7h2v7zm4 0h-2V7h2v10zm4 0h-2v-4h2v4z\"/>\n",
              "    </g>\n",
              "</svg>\n",
              "  </button>\n",
              "\n",
              "<style>\n",
              "  .colab-df-quickchart {\n",
              "      --bg-color: #E8F0FE;\n",
              "      --fill-color: #1967D2;\n",
              "      --hover-bg-color: #E2EBFA;\n",
              "      --hover-fill-color: #174EA6;\n",
              "      --disabled-fill-color: #AAA;\n",
              "      --disabled-bg-color: #DDD;\n",
              "  }\n",
              "\n",
              "  [theme=dark] .colab-df-quickchart {\n",
              "      --bg-color: #3B4455;\n",
              "      --fill-color: #D2E3FC;\n",
              "      --hover-bg-color: #434B5C;\n",
              "      --hover-fill-color: #FFFFFF;\n",
              "      --disabled-bg-color: #3B4455;\n",
              "      --disabled-fill-color: #666;\n",
              "  }\n",
              "\n",
              "  .colab-df-quickchart {\n",
              "    background-color: var(--bg-color);\n",
              "    border: none;\n",
              "    border-radius: 50%;\n",
              "    cursor: pointer;\n",
              "    display: none;\n",
              "    fill: var(--fill-color);\n",
              "    height: 32px;\n",
              "    padding: 0;\n",
              "    width: 32px;\n",
              "  }\n",
              "\n",
              "  .colab-df-quickchart:hover {\n",
              "    background-color: var(--hover-bg-color);\n",
              "    box-shadow: 0 1px 2px rgba(60, 64, 67, 0.3), 0 1px 3px 1px rgba(60, 64, 67, 0.15);\n",
              "    fill: var(--button-hover-fill-color);\n",
              "  }\n",
              "\n",
              "  .colab-df-quickchart-complete:disabled,\n",
              "  .colab-df-quickchart-complete:disabled:hover {\n",
              "    background-color: var(--disabled-bg-color);\n",
              "    fill: var(--disabled-fill-color);\n",
              "    box-shadow: none;\n",
              "  }\n",
              "\n",
              "  .colab-df-spinner {\n",
              "    border: 2px solid var(--fill-color);\n",
              "    border-color: transparent;\n",
              "    border-bottom-color: var(--fill-color);\n",
              "    animation:\n",
              "      spin 1s steps(1) infinite;\n",
              "  }\n",
              "\n",
              "  @keyframes spin {\n",
              "    0% {\n",
              "      border-color: transparent;\n",
              "      border-bottom-color: var(--fill-color);\n",
              "      border-left-color: var(--fill-color);\n",
              "    }\n",
              "    20% {\n",
              "      border-color: transparent;\n",
              "      border-left-color: var(--fill-color);\n",
              "      border-top-color: var(--fill-color);\n",
              "    }\n",
              "    30% {\n",
              "      border-color: transparent;\n",
              "      border-left-color: var(--fill-color);\n",
              "      border-top-color: var(--fill-color);\n",
              "      border-right-color: var(--fill-color);\n",
              "    }\n",
              "    40% {\n",
              "      border-color: transparent;\n",
              "      border-right-color: var(--fill-color);\n",
              "      border-top-color: var(--fill-color);\n",
              "    }\n",
              "    60% {\n",
              "      border-color: transparent;\n",
              "      border-right-color: var(--fill-color);\n",
              "    }\n",
              "    80% {\n",
              "      border-color: transparent;\n",
              "      border-right-color: var(--fill-color);\n",
              "      border-bottom-color: var(--fill-color);\n",
              "    }\n",
              "    90% {\n",
              "      border-color: transparent;\n",
              "      border-bottom-color: var(--fill-color);\n",
              "    }\n",
              "  }\n",
              "</style>\n",
              "\n",
              "  <script>\n",
              "    async function quickchart(key) {\n",
              "      const quickchartButtonEl =\n",
              "        document.querySelector('#' + key + ' button');\n",
              "      quickchartButtonEl.disabled = true;  // To prevent multiple clicks.\n",
              "      quickchartButtonEl.classList.add('colab-df-spinner');\n",
              "      try {\n",
              "        const charts = await google.colab.kernel.invokeFunction(\n",
              "            'suggestCharts', [key], {});\n",
              "      } catch (error) {\n",
              "        console.error('Error during call to suggestCharts:', error);\n",
              "      }\n",
              "      quickchartButtonEl.classList.remove('colab-df-spinner');\n",
              "      quickchartButtonEl.classList.add('colab-df-quickchart-complete');\n",
              "    }\n",
              "    (() => {\n",
              "      let quickchartButtonEl =\n",
              "        document.querySelector('#df-8f194916-d350-4082-b9f0-d2ed83c594b3 button');\n",
              "      quickchartButtonEl.style.display =\n",
              "        google.colab.kernel.accessAllowed ? 'block' : 'none';\n",
              "    })();\n",
              "  </script>\n",
              "</div>\n",
              "\n",
              "    </div>\n",
              "  </div>\n"
            ],
            "application/vnd.google.colaboratory.intrinsic+json": {
              "type": "dataframe",
              "variable_name": "data"
            }
          },
          "metadata": {},
          "execution_count": 18
        }
      ]
    },
    {
      "cell_type": "code",
      "source": [],
      "metadata": {
        "id": "T6zJaCzbXZqS"
      },
      "execution_count": 18,
      "outputs": []
    },
    {
      "cell_type": "code",
      "source": [
        "data.isnull().sum()"
      ],
      "metadata": {
        "execution": {
          "iopub.status.busy": "2024-04-10T18:42:13.093872Z",
          "iopub.execute_input": "2024-04-10T18:42:13.094234Z",
          "iopub.status.idle": "2024-04-10T18:42:13.127893Z",
          "shell.execute_reply.started": "2024-04-10T18:42:13.094206Z",
          "shell.execute_reply": "2024-04-10T18:42:13.126913Z"
        },
        "trusted": true,
        "colab": {
          "base_uri": "https://localhost:8080/"
        },
        "id": "KB965aE8XZqS",
        "outputId": "39d8b390-52d3-4def-c0bc-eea6d087de16"
      },
      "execution_count": 19,
      "outputs": [
        {
          "output_type": "execute_result",
          "data": {
            "text/plain": [
              "year                    0\n",
              "make                    0\n",
              "model                   0\n",
              "class                   0\n",
              "drive                1189\n",
              "                     ... \n",
              "range_ft1               0\n",
              "city_range_ft1          0\n",
              "highway_range_ft1       0\n",
              "city_range_ft2          0\n",
              "highway_range_ft2       0\n",
              "Length: 68, dtype: int64"
            ]
          },
          "metadata": {},
          "execution_count": 19
        }
      ]
    },
    {
      "cell_type": "code",
      "source": [
        "liste=[]\n",
        "for column in data.columns:\n",
        "    if data[column].isnull().sum()!=0:\n",
        "        liste.append(column)\n",
        "print(liste)\n",
        ""
      ],
      "metadata": {
        "execution": {
          "iopub.status.busy": "2024-04-10T18:42:13.129272Z",
          "iopub.execute_input": "2024-04-10T18:42:13.130002Z",
          "iopub.status.idle": "2024-04-10T18:42:13.170041Z",
          "shell.execute_reply.started": "2024-04-10T18:42:13.129962Z",
          "shell.execute_reply": "2024-04-10T18:42:13.169056Z"
        },
        "trusted": true,
        "colab": {
          "base_uri": "https://localhost:8080/"
        },
        "id": "rhHPZWARXZqT",
        "outputId": "e83f32ca-3e31-4f05-9d23-9ac9f2c7c85a"
      },
      "execution_count": 20,
      "outputs": [
        {
          "output_type": "stream",
          "name": "stdout",
          "text": [
            "['drive', 'transmission', 'transmission_type', 'engine_descriptor', 'engine_cylinders', 'engine_displacement', 'supercharger', 'gas_guzzler_tax', 'start_stop_technology', 'alternative_fuel_technology', 'manufacturer_code']\n"
          ]
        }
      ]
    },
    {
      "cell_type": "code",
      "source": [
        "data[\"drive\"].value_counts()"
      ],
      "metadata": {
        "execution": {
          "iopub.status.busy": "2024-04-10T18:42:13.171164Z",
          "iopub.execute_input": "2024-04-10T18:42:13.171518Z",
          "iopub.status.idle": "2024-04-10T18:42:13.181858Z",
          "shell.execute_reply.started": "2024-04-10T18:42:13.171492Z",
          "shell.execute_reply": "2024-04-10T18:42:13.180788Z"
        },
        "trusted": true,
        "colab": {
          "base_uri": "https://localhost:8080/"
        },
        "id": "AuQtUgG-XZqT",
        "outputId": "bc0562e7-0b24-4ffd-ca78-f60b1f7cf28b"
      },
      "execution_count": 21,
      "outputs": [
        {
          "output_type": "execute_result",
          "data": {
            "text/plain": [
              "drive\n",
              "Front-Wheel Drive             13351\n",
              "Rear-Wheel Drive              13018\n",
              "4-Wheel or All-Wheel Drive     6648\n",
              "All-Wheel Drive                2121\n",
              "4-Wheel Drive                  1103\n",
              "2-Wheel Drive                   507\n",
              "Part-time 4-Wheel Drive         176\n",
              "Name: count, dtype: int64"
            ]
          },
          "metadata": {},
          "execution_count": 21
        }
      ]
    },
    {
      "cell_type": "code",
      "source": [
        "data[\"drive\"]=data[\"drive\"].fillna(\"Front-Wheel Drive\")"
      ],
      "metadata": {
        "execution": {
          "iopub.status.busy": "2024-04-10T18:42:13.182981Z",
          "iopub.execute_input": "2024-04-10T18:42:13.18327Z",
          "iopub.status.idle": "2024-04-10T18:42:13.191919Z",
          "shell.execute_reply.started": "2024-04-10T18:42:13.183239Z",
          "shell.execute_reply": "2024-04-10T18:42:13.19115Z"
        },
        "trusted": true,
        "id": "TVtPwGPBXZqU"
      },
      "execution_count": 22,
      "outputs": []
    },
    {
      "cell_type": "code",
      "source": [
        "data[\"transmission\"].value_counts()"
      ],
      "metadata": {
        "execution": {
          "iopub.status.busy": "2024-04-10T18:42:13.192999Z",
          "iopub.execute_input": "2024-04-10T18:42:13.193787Z",
          "iopub.status.idle": "2024-04-10T18:42:13.207586Z",
          "shell.execute_reply.started": "2024-04-10T18:42:13.193758Z",
          "shell.execute_reply": "2024-04-10T18:42:13.206691Z"
        },
        "trusted": true,
        "colab": {
          "base_uri": "https://localhost:8080/"
        },
        "id": "Tqon6n3SXZqU",
        "outputId": "99447942-ffe1-400e-df2c-059024174705"
      },
      "execution_count": 23,
      "outputs": [
        {
          "output_type": "execute_result",
          "data": {
            "text/plain": [
              "transmission\n",
              "Automatic 4-Speed                   11042\n",
              "Manual 5-Speed                       8323\n",
              "Automatic 3-Speed                    3151\n",
              "Automatic (S6)                       2684\n",
              "Manual 6-Speed                       2448\n",
              "Automatic 5-Speed                    2191\n",
              "Manual 4-Speed                       1483\n",
              "Automatic 6-Speed                    1447\n",
              "Automatic (S8)                        977\n",
              "Automatic (S5)                        827\n",
              "Automatic (variable gear ratios)      702\n",
              "Automatic 7-Speed                     675\n",
              "Automatic (S7)                        270\n",
              "Auto(AM-S7)                           266\n",
              "Automatic 8-Speed                     259\n",
              "Automatic (S4)                        233\n",
              "Auto(AM7)                             166\n",
              "Auto(AV-S6)                           153\n",
              "Automatic (A1)                        124\n",
              "Auto(AM6)                             120\n",
              "Automatic 9-Speed                     105\n",
              "Auto(AM-S6)                            87\n",
              "Auto(AV-S7)                            80\n",
              "Manual 3-Speed                         77\n",
              "Manual 7-Speed                         73\n",
              "Automatic (S9)                         29\n",
              "Auto(AV-S8)                            28\n",
              "Manual 4-Speed Doubled                 17\n",
              "Auto(AM5)                              12\n",
              "Automatic (AV-S6)                       9\n",
              "Automatic (S10)                         8\n",
              "Auto(AM-S8)                             6\n",
              "Auto(AM8)                               5\n",
              "Automatic (AV)                          4\n",
              "Automatic (A6)                          4\n",
              "Manual(M7)                              3\n",
              "Auto(L3)                                2\n",
              "Auto(L4)                                2\n",
              "Automatic (AM5)                         2\n",
              "Auto (AV)                               2\n",
              "Manual 5 Speed                          1\n",
              "Auto (AV-S8)                            1\n",
              "Auto (AV-S6)                            1\n",
              "Automatic 6Speed                        1\n",
              "Automatic (AM6)                         1\n",
              "Auto(AM-S9)                             1\n",
              "Name: count, dtype: int64"
            ]
          },
          "metadata": {},
          "execution_count": 23
        }
      ]
    },
    {
      "cell_type": "code",
      "source": [
        "data[\"transmission\"]=data[\"transmission\"].fillna(\"Automatic 4-Speed\")"
      ],
      "metadata": {
        "execution": {
          "iopub.status.busy": "2024-04-10T18:42:13.208763Z",
          "iopub.execute_input": "2024-04-10T18:42:13.209324Z",
          "iopub.status.idle": "2024-04-10T18:42:13.218615Z",
          "shell.execute_reply.started": "2024-04-10T18:42:13.209287Z",
          "shell.execute_reply": "2024-04-10T18:42:13.217795Z"
        },
        "trusted": true,
        "id": "blw9RTrqXZqU"
      },
      "execution_count": 24,
      "outputs": []
    },
    {
      "cell_type": "code",
      "source": [
        "data[\"transmission_type\"].value_counts()"
      ],
      "metadata": {
        "execution": {
          "iopub.status.busy": "2024-04-10T18:42:13.219712Z",
          "iopub.execute_input": "2024-04-10T18:42:13.219994Z",
          "iopub.status.idle": "2024-04-10T18:42:13.230578Z",
          "shell.execute_reply.started": "2024-04-10T18:42:13.219964Z",
          "shell.execute_reply": "2024-04-10T18:42:13.22965Z"
        },
        "trusted": true,
        "colab": {
          "base_uri": "https://localhost:8080/"
        },
        "id": "7S7-ykWbXZqV",
        "outputId": "af7a1a43-8e2d-461a-ac6c-c02087f9bd53"
      },
      "execution_count": 25,
      "outputs": [
        {
          "output_type": "execute_result",
          "data": {
            "text/plain": [
              "transmission_type\n",
              "CLKUP              7809\n",
              "SIL                2189\n",
              "2MODE CLKUP        1235\n",
              "Creeper             525\n",
              "EMS 2MODE CLKUP     520\n",
              "3MODE CLKUP         515\n",
              "2MODE               448\n",
              "2MODE 2LKUP         383\n",
              "EMS                 252\n",
              "3MODE               166\n",
              "CMODE               150\n",
              "CMODE CLKUP         130\n",
              "VMODE CLKUP         105\n",
              "SIL Creeper          72\n",
              "2LKUP                63\n",
              "DC/FW                53\n",
              "VLKUP                52\n",
              "EMS CLKUP            50\n",
              "EMS 2MODE            46\n",
              "6MODE CLKUP          41\n",
              "4MODE                35\n",
              "VMODE VLKUP          26\n",
              "2MODE 3LKUP          22\n",
              "2MODE DC/FW          19\n",
              "CMODE VLKUP          17\n",
              "3LKUP                15\n",
              "EMS 3MODE            11\n",
              "Overdrive            10\n",
              "2MODE VLKUP           9\n",
              "Lockup                9\n",
              "SIL EMS               7\n",
              "SIL 3MODE             6\n",
              "6MODE                 6\n",
              "4MODE CLKUP           6\n",
              "SIL 2MODE CLKUP       5\n",
              "EMS 2MODE CLKU        5\n",
              "3MODE VLKUP           5\n",
              "EMS 3MODE CLKUP       3\n",
              "Mech Overdrive        3\n",
              "Elec Overdrive        3\n",
              "SIL CMODE             2\n",
              "SIL 3MODE CLKUP       2\n",
              "VMODE                 2\n",
              "3MODE 2LKUP           2\n",
              "2MODE CLKUP FW        2\n",
              "EMS CMODE CLKUP       2\n",
              "LONG RATIO            2\n",
              "3MODE CLKUP FW        1\n",
              "fuel injection        1\n",
              "Lockup A3             1\n",
              "SIL CLKUP             1\n",
              "EMS 5MODE             1\n",
              "Name: count, dtype: int64"
            ]
          },
          "metadata": {},
          "execution_count": 25
        }
      ]
    },
    {
      "cell_type": "code",
      "source": [
        "data[\"transmission_type\"]=data[\"transmission_type\"].fillna(\"CLKUP\")"
      ],
      "metadata": {
        "execution": {
          "iopub.status.busy": "2024-04-10T18:42:13.231313Z",
          "iopub.execute_input": "2024-04-10T18:42:13.231581Z",
          "iopub.status.idle": "2024-04-10T18:42:13.2396Z",
          "shell.execute_reply.started": "2024-04-10T18:42:13.231556Z",
          "shell.execute_reply": "2024-04-10T18:42:13.238563Z"
        },
        "trusted": true,
        "id": "pSarPahlXZqW"
      },
      "execution_count": 26,
      "outputs": []
    },
    {
      "cell_type": "code",
      "source": [
        "data[\"engine_descriptor\"].value_counts()"
      ],
      "metadata": {
        "execution": {
          "iopub.status.busy": "2024-04-10T18:42:13.240992Z",
          "iopub.execute_input": "2024-04-10T18:42:13.241288Z",
          "iopub.status.idle": "2024-04-10T18:42:13.251956Z",
          "shell.execute_reply.started": "2024-04-10T18:42:13.241263Z",
          "shell.execute_reply": "2024-04-10T18:42:13.25096Z"
        },
        "trusted": true,
        "colab": {
          "base_uri": "https://localhost:8080/"
        },
        "id": "BFiZT3PrXZqW",
        "outputId": "0c891628-8a35-4658-a9aa-9856f975d090"
      },
      "execution_count": 27,
      "outputs": [
        {
          "output_type": "execute_result",
          "data": {
            "text/plain": [
              "engine_descriptor\n",
              "(FFS)                           8827\n",
              "SIDI                            3674\n",
              "(FFS) CA model                   926\n",
              "(FFS)      (MPFI)                734\n",
              "(FFS,TRBO)                       666\n",
              "                                ... \n",
              "3-VALVE                            1\n",
              "200                                1\n",
              "B234L/R4 (FFS,TRBO)                1\n",
              "16-V, CAL. (FFS)      (MPFI)       1\n",
              "SIDI & PFI; Stop-Start             1\n",
              "Name: count, Length: 544, dtype: int64"
            ]
          },
          "metadata": {},
          "execution_count": 27
        }
      ]
    },
    {
      "cell_type": "code",
      "source": [
        "data[\"engine_descriptor\"]=data[\"engine_descriptor\"].fillna(\"(FFS)\")"
      ],
      "metadata": {
        "execution": {
          "iopub.status.busy": "2024-04-10T18:42:13.253215Z",
          "iopub.execute_input": "2024-04-10T18:42:13.25349Z",
          "iopub.status.idle": "2024-04-10T18:42:13.26105Z",
          "shell.execute_reply.started": "2024-04-10T18:42:13.253465Z",
          "shell.execute_reply": "2024-04-10T18:42:13.259843Z"
        },
        "trusted": true,
        "id": "1-OH-dlCXZqX"
      },
      "execution_count": 28,
      "outputs": []
    },
    {
      "cell_type": "code",
      "source": [
        "data[\"engine_cylinders\"].value_counts()"
      ],
      "metadata": {
        "execution": {
          "iopub.status.busy": "2024-04-10T18:42:13.263202Z",
          "iopub.execute_input": "2024-04-10T18:42:13.264164Z",
          "iopub.status.idle": "2024-04-10T18:42:13.275676Z",
          "shell.execute_reply.started": "2024-04-10T18:42:13.264126Z",
          "shell.execute_reply": "2024-04-10T18:42:13.274639Z"
        },
        "trusted": true,
        "colab": {
          "base_uri": "https://localhost:8080/"
        },
        "id": "AtWyz_2DXZqY",
        "outputId": "6eef737a-7643-450c-c602-766b47620d97"
      },
      "execution_count": 29,
      "outputs": [
        {
          "output_type": "execute_result",
          "data": {
            "text/plain": [
              "engine_cylinders\n",
              "4.0     14598\n",
              "6.0     13268\n",
              "8.0      8342\n",
              "5.0       766\n",
              "12.0      574\n",
              "3.0       213\n",
              "10.0      153\n",
              "2.0        55\n",
              "16.0        8\n",
              "Name: count, dtype: int64"
            ]
          },
          "metadata": {},
          "execution_count": 29
        }
      ]
    },
    {
      "cell_type": "code",
      "source": [
        "data[\"engine_cylinders\"]=data[\"engine_cylinders\"].fillna(4.0)"
      ],
      "metadata": {
        "execution": {
          "iopub.status.busy": "2024-04-10T18:42:13.276912Z",
          "iopub.execute_input": "2024-04-10T18:42:13.277613Z",
          "iopub.status.idle": "2024-04-10T18:42:13.282827Z",
          "shell.execute_reply.started": "2024-04-10T18:42:13.277576Z",
          "shell.execute_reply": "2024-04-10T18:42:13.281892Z"
        },
        "trusted": true,
        "id": "penadlo_XZqZ"
      },
      "execution_count": 30,
      "outputs": []
    },
    {
      "cell_type": "code",
      "source": [
        "data[\"engine_displacement\"].value_counts()"
      ],
      "metadata": {
        "execution": {
          "iopub.status.busy": "2024-04-10T18:42:13.283638Z",
          "iopub.execute_input": "2024-04-10T18:42:13.28397Z",
          "iopub.status.idle": "2024-04-10T18:42:13.294948Z",
          "shell.execute_reply.started": "2024-04-10T18:42:13.283936Z",
          "shell.execute_reply": "2024-04-10T18:42:13.294151Z"
        },
        "trusted": true,
        "colab": {
          "base_uri": "https://localhost:8080/"
        },
        "id": "XHtZKdLzXZqa",
        "outputId": "cae52df1-cd11-42ed-a659-74038ff11cd6"
      },
      "execution_count": 31,
      "outputs": [
        {
          "output_type": "execute_result",
          "data": {
            "text/plain": [
              "engine_displacement\n",
              "2.0    3555\n",
              "3.0    2940\n",
              "2.5    2388\n",
              "2.4    1933\n",
              "1.8    1593\n",
              "       ... \n",
              "8.3       9\n",
              "0.9       6\n",
              "7.4       4\n",
              "0.6       4\n",
              "0.0       1\n",
              "Name: count, Length: 66, dtype: int64"
            ]
          },
          "metadata": {},
          "execution_count": 31
        }
      ]
    },
    {
      "cell_type": "code",
      "source": [
        "data[\"engine_displacement\"]=data[\"engine_displacement\"].fillna(2.0)"
      ],
      "metadata": {
        "execution": {
          "iopub.status.busy": "2024-04-10T18:42:13.29625Z",
          "iopub.execute_input": "2024-04-10T18:42:13.296563Z",
          "iopub.status.idle": "2024-04-10T18:42:13.301233Z",
          "shell.execute_reply.started": "2024-04-10T18:42:13.296535Z",
          "shell.execute_reply": "2024-04-10T18:42:13.300542Z"
        },
        "trusted": true,
        "id": "0sB1qshtXZqb"
      },
      "execution_count": 32,
      "outputs": []
    },
    {
      "cell_type": "code",
      "source": [
        "data[\"gas_guzzler_tax\"].value_counts()"
      ],
      "metadata": {
        "execution": {
          "iopub.status.busy": "2024-04-10T18:42:13.302428Z",
          "iopub.execute_input": "2024-04-10T18:42:13.302907Z",
          "iopub.status.idle": "2024-04-10T18:42:13.314097Z",
          "shell.execute_reply.started": "2024-04-10T18:42:13.30288Z",
          "shell.execute_reply": "2024-04-10T18:42:13.313201Z"
        },
        "trusted": true,
        "colab": {
          "base_uri": "https://localhost:8080/"
        },
        "id": "4IgJhVBuXZqb",
        "outputId": "34e483ab-a160-49fc-911a-1ae44640689a"
      },
      "execution_count": 33,
      "outputs": [
        {
          "output_type": "execute_result",
          "data": {
            "text/plain": [
              "gas_guzzler_tax\n",
              "True    964\n",
              "Name: count, dtype: int64"
            ]
          },
          "metadata": {},
          "execution_count": 33
        }
      ]
    },
    {
      "cell_type": "code",
      "source": [
        "data[\"gas_guzzler_tax\"]=data[\"gas_guzzler_tax\"].fillna(\"True\")"
      ],
      "metadata": {
        "execution": {
          "iopub.status.busy": "2024-04-10T18:42:13.315041Z",
          "iopub.execute_input": "2024-04-10T18:42:13.315952Z",
          "iopub.status.idle": "2024-04-10T18:42:13.323758Z",
          "shell.execute_reply.started": "2024-04-10T18:42:13.315917Z",
          "shell.execute_reply": "2024-04-10T18:42:13.323042Z"
        },
        "trusted": true,
        "id": "YqiJF5pNXZqc"
      },
      "execution_count": 34,
      "outputs": []
    },
    {
      "cell_type": "code",
      "source": [
        "data.drop(\"start_stop_technology\",axis=1,inplace=True)"
      ],
      "metadata": {
        "execution": {
          "iopub.status.busy": "2024-04-10T18:42:13.324882Z",
          "iopub.execute_input": "2024-04-10T18:42:13.325343Z",
          "iopub.status.idle": "2024-04-10T18:42:13.339685Z",
          "shell.execute_reply.started": "2024-04-10T18:42:13.325305Z",
          "shell.execute_reply": "2024-04-10T18:42:13.338967Z"
        },
        "trusted": true,
        "id": "X8YjKFhLXZqc"
      },
      "execution_count": 35,
      "outputs": []
    },
    {
      "cell_type": "code",
      "source": [
        "data[\"alternative_fuel_technology\"].value_counts()"
      ],
      "metadata": {
        "execution": {
          "iopub.status.busy": "2024-04-10T18:42:13.340828Z",
          "iopub.execute_input": "2024-04-10T18:42:13.34129Z",
          "iopub.status.idle": "2024-04-10T18:42:13.349228Z",
          "shell.execute_reply.started": "2024-04-10T18:42:13.341261Z",
          "shell.execute_reply": "2024-04-10T18:42:13.348334Z"
        },
        "trusted": true,
        "colab": {
          "base_uri": "https://localhost:8080/"
        },
        "id": "FthV7Ta2XZqc",
        "outputId": "a79e8a8d-8163-49b6-bf12-21ba5ac3c835"
      },
      "execution_count": 36,
      "outputs": [
        {
          "output_type": "execute_result",
          "data": {
            "text/plain": [
              "alternative_fuel_technology\n",
              "FFV               1345\n",
              "Diesel             942\n",
              "Hybrid             484\n",
              "EV                 133\n",
              "Plug-in Hybrid      65\n",
              "CNG                 50\n",
              "Bifuel (CNG)        20\n",
              "Bifuel (LPG)         8\n",
              "Name: count, dtype: int64"
            ]
          },
          "metadata": {},
          "execution_count": 36
        }
      ]
    },
    {
      "cell_type": "code",
      "source": [
        "data[\"alternative_fuel_technology\"]=data[\"alternative_fuel_technology\"].fillna(\"FFV\")"
      ],
      "metadata": {
        "execution": {
          "iopub.status.busy": "2024-04-10T18:42:13.356274Z",
          "iopub.execute_input": "2024-04-10T18:42:13.356796Z",
          "iopub.status.idle": "2024-04-10T18:42:13.364217Z",
          "shell.execute_reply.started": "2024-04-10T18:42:13.356759Z",
          "shell.execute_reply": "2024-04-10T18:42:13.363354Z"
        },
        "trusted": true,
        "id": "viyzHzwSXZqd"
      },
      "execution_count": 37,
      "outputs": []
    },
    {
      "cell_type": "code",
      "source": [
        "data.drop(\"manufacturer_code\",axis=1,inplace=True)"
      ],
      "metadata": {
        "execution": {
          "iopub.status.busy": "2024-04-10T18:42:13.365537Z",
          "iopub.execute_input": "2024-04-10T18:42:13.366146Z",
          "iopub.status.idle": "2024-04-10T18:42:13.383403Z",
          "shell.execute_reply.started": "2024-04-10T18:42:13.366111Z",
          "shell.execute_reply": "2024-04-10T18:42:13.382713Z"
        },
        "trusted": true,
        "id": "54SAO6sBXZqd"
      },
      "execution_count": 38,
      "outputs": []
    },
    {
      "cell_type": "code",
      "source": [],
      "metadata": {
        "id": "tFKu-RSRXZq0"
      },
      "execution_count": 38,
      "outputs": []
    },
    {
      "cell_type": "code",
      "source": [
        "liste2=[]\n",
        "for column in data.columns:\n",
        "    if data[column].dtypes==object:\n",
        "        liste2.append(column)\n",
        "print(liste2)"
      ],
      "metadata": {
        "execution": {
          "iopub.status.busy": "2024-04-10T18:42:13.384754Z",
          "iopub.execute_input": "2024-04-10T18:42:13.385331Z",
          "iopub.status.idle": "2024-04-10T18:42:13.395546Z",
          "shell.execute_reply.started": "2024-04-10T18:42:13.385295Z",
          "shell.execute_reply": "2024-04-10T18:42:13.394612Z"
        },
        "trusted": true,
        "colab": {
          "base_uri": "https://localhost:8080/"
        },
        "id": "lWimpQeGXZq0",
        "outputId": "f9d2091a-9002-4160-ad68-2169cd8e0405"
      },
      "execution_count": 39,
      "outputs": [
        {
          "output_type": "stream",
          "name": "stdout",
          "text": [
            "['make', 'model', 'class', 'drive', 'transmission', 'transmission_type', 'engine_descriptor', 'fuel_type', 'fuel_type_1', 'gas_guzzler_tax', 'my_mpg_data', 'alternative_fuel_technology']\n"
          ]
        }
      ]
    },
    {
      "cell_type": "code",
      "source": [
        "from sklearn.preprocessing import LabelEncoder\n",
        "En=LabelEncoder()\n",
        "Enco=En.fit_transform(data[\"make\"])\n",
        "data.drop(\"make\",axis=1,inplace=True)\n",
        "data[\"make\"]=Enco"
      ],
      "metadata": {
        "execution": {
          "iopub.status.busy": "2024-04-10T18:42:13.396749Z",
          "iopub.execute_input": "2024-04-10T18:42:13.39703Z",
          "iopub.status.idle": "2024-04-10T18:42:13.422905Z",
          "shell.execute_reply.started": "2024-04-10T18:42:13.396998Z",
          "shell.execute_reply": "2024-04-10T18:42:13.422033Z"
        },
        "trusted": true,
        "id": "wd7DQn4uXZq0"
      },
      "execution_count": 40,
      "outputs": []
    },
    {
      "cell_type": "code",
      "source": [
        "from sklearn.preprocessing import LabelEncoder\n",
        "En=LabelEncoder()\n",
        "Enco2=En.fit_transform(data[\"model\"])\n",
        "data.drop(\"model\",axis=1,inplace=True)\n",
        "data[\"model\"]=Enco2"
      ],
      "metadata": {
        "execution": {
          "iopub.status.busy": "2024-04-10T18:42:13.424108Z",
          "iopub.execute_input": "2024-04-10T18:42:13.424451Z",
          "iopub.status.idle": "2024-04-10T18:42:13.455819Z",
          "shell.execute_reply.started": "2024-04-10T18:42:13.424425Z",
          "shell.execute_reply": "2024-04-10T18:42:13.454796Z"
        },
        "trusted": true,
        "id": "c_15MVd8XZq1"
      },
      "execution_count": 41,
      "outputs": []
    },
    {
      "cell_type": "code",
      "source": [],
      "metadata": {
        "trusted": true,
        "id": "VZjTuSotXZq1"
      },
      "execution_count": 41,
      "outputs": []
    },
    {
      "cell_type": "code",
      "source": [
        "from sklearn.preprocessing import LabelEncoder\n",
        "En=LabelEncoder()\n",
        "Enco3=En.fit_transform(data[\"class\"])\n",
        "data.drop(\"class\",axis=1,inplace=True)\n",
        "data[\"class\"]=Enco3"
      ],
      "metadata": {
        "execution": {
          "iopub.status.busy": "2024-04-10T18:42:13.457029Z",
          "iopub.execute_input": "2024-04-10T18:42:13.457558Z",
          "iopub.status.idle": "2024-04-10T18:42:13.482038Z",
          "shell.execute_reply.started": "2024-04-10T18:42:13.457529Z",
          "shell.execute_reply": "2024-04-10T18:42:13.481201Z"
        },
        "trusted": true,
        "id": "qUtdsC81XZq2"
      },
      "execution_count": 42,
      "outputs": []
    },
    {
      "cell_type": "code",
      "source": [
        "from sklearn.preprocessing import LabelEncoder\n",
        "En=LabelEncoder()\n",
        "Enco4=En.fit_transform(data[\"drive\"])\n",
        "data.drop(\"drive\",axis=1,inplace=True)\n",
        "data[\"drive\"]=Enco4"
      ],
      "metadata": {
        "execution": {
          "iopub.status.busy": "2024-04-10T18:42:13.483083Z",
          "iopub.execute_input": "2024-04-10T18:42:13.483423Z",
          "iopub.status.idle": "2024-04-10T18:42:13.507564Z",
          "shell.execute_reply.started": "2024-04-10T18:42:13.483398Z",
          "shell.execute_reply": "2024-04-10T18:42:13.50677Z"
        },
        "trusted": true,
        "id": "eTyME0s4XZq2"
      },
      "execution_count": 43,
      "outputs": []
    },
    {
      "cell_type": "code",
      "source": [
        "from sklearn.preprocessing import LabelEncoder\n",
        "En=LabelEncoder()\n",
        "Enco5=En.fit_transform(data[\"transmission\"])\n",
        "data.drop(\"transmission\",axis=1,inplace=True)\n",
        "data[\"transmission\"]=Enco5"
      ],
      "metadata": {
        "execution": {
          "iopub.status.busy": "2024-04-10T18:42:13.508771Z",
          "iopub.execute_input": "2024-04-10T18:42:13.509134Z",
          "iopub.status.idle": "2024-04-10T18:42:13.53223Z",
          "shell.execute_reply.started": "2024-04-10T18:42:13.509099Z",
          "shell.execute_reply": "2024-04-10T18:42:13.531167Z"
        },
        "trusted": true,
        "id": "XS_L1t7-XZq2"
      },
      "execution_count": 44,
      "outputs": []
    },
    {
      "cell_type": "code",
      "source": [
        "from sklearn.preprocessing import LabelEncoder\n",
        "En=LabelEncoder()\n",
        "Enco6=En.fit_transform(data[\"transmission_type\"])\n",
        "data.drop(\"transmission_type\",axis=1,inplace=True)\n",
        "data[\"transmission_type\"]=Enco6"
      ],
      "metadata": {
        "execution": {
          "iopub.status.busy": "2024-04-10T18:42:13.533922Z",
          "iopub.execute_input": "2024-04-10T18:42:13.534292Z",
          "iopub.status.idle": "2024-04-10T18:42:13.557865Z",
          "shell.execute_reply.started": "2024-04-10T18:42:13.534257Z",
          "shell.execute_reply": "2024-04-10T18:42:13.556858Z"
        },
        "trusted": true,
        "id": "k8TMo5yvXZq3"
      },
      "execution_count": 45,
      "outputs": []
    },
    {
      "cell_type": "code",
      "source": [
        "from sklearn.preprocessing import LabelEncoder\n",
        "En=LabelEncoder()\n",
        "Enco7=En.fit_transform(data[\"engine_descriptor\"])\n",
        "data.drop(\"engine_descriptor\",axis=1,inplace=True)\n",
        "data[\"engine_descriptor\"]=Enco7"
      ],
      "metadata": {
        "execution": {
          "iopub.status.busy": "2024-04-10T18:42:13.561273Z",
          "iopub.execute_input": "2024-04-10T18:42:13.561577Z",
          "iopub.status.idle": "2024-04-10T18:42:13.585496Z",
          "shell.execute_reply.started": "2024-04-10T18:42:13.561549Z",
          "shell.execute_reply": "2024-04-10T18:42:13.584629Z"
        },
        "trusted": true,
        "id": "S1BLReFLXZq3"
      },
      "execution_count": 46,
      "outputs": []
    },
    {
      "cell_type": "code",
      "source": [
        "from sklearn.preprocessing import LabelEncoder\n",
        "En=LabelEncoder()\n",
        "Enco8=En.fit_transform(data[\"fuel_type\"])\n",
        "data.drop(\"fuel_type\",axis=1,inplace=True)\n",
        "data[\"fuel_type\"]=Enco8"
      ],
      "metadata": {
        "execution": {
          "iopub.status.busy": "2024-04-10T18:42:13.586719Z",
          "iopub.execute_input": "2024-04-10T18:42:13.587009Z",
          "iopub.status.idle": "2024-04-10T18:42:13.607406Z",
          "shell.execute_reply.started": "2024-04-10T18:42:13.586984Z",
          "shell.execute_reply": "2024-04-10T18:42:13.60649Z"
        },
        "trusted": true,
        "id": "E_2ZLanxXZq4"
      },
      "execution_count": 47,
      "outputs": []
    },
    {
      "cell_type": "code",
      "source": [
        "from sklearn.preprocessing import LabelEncoder\n",
        "En=LabelEncoder()\n",
        "Enco=En.fit_transform(data[\"fuel_type_1\"])\n",
        "data.drop(\"fuel_type_1\",axis=1,inplace=True)\n",
        "data[\"fuel_type_1\"]=Enco"
      ],
      "metadata": {
        "execution": {
          "iopub.status.busy": "2024-04-10T18:42:13.608493Z",
          "iopub.execute_input": "2024-04-10T18:42:13.608798Z",
          "iopub.status.idle": "2024-04-10T18:42:13.628379Z",
          "shell.execute_reply.started": "2024-04-10T18:42:13.608772Z",
          "shell.execute_reply": "2024-04-10T18:42:13.627486Z"
        },
        "trusted": true,
        "id": "XtQxa1PIXZq5"
      },
      "execution_count": 48,
      "outputs": []
    },
    {
      "cell_type": "code",
      "source": [
        "data.drop(\"gas_guzzler_tax\",axis=1,inplace=True)"
      ],
      "metadata": {
        "execution": {
          "iopub.status.busy": "2024-04-10T18:42:13.629554Z",
          "iopub.execute_input": "2024-04-10T18:42:13.629832Z",
          "iopub.status.idle": "2024-04-10T18:42:13.639418Z",
          "shell.execute_reply.started": "2024-04-10T18:42:13.629807Z",
          "shell.execute_reply": "2024-04-10T18:42:13.638694Z"
        },
        "trusted": true,
        "id": "hyLSFDs_XZq6"
      },
      "execution_count": 49,
      "outputs": []
    },
    {
      "cell_type": "code",
      "source": [
        "from sklearn.preprocessing import LabelEncoder\n",
        "En=LabelEncoder()\n",
        "Enco9=En.fit_transform(data[\"alternative_fuel_technology\"])\n",
        "data.drop(\"alternative_fuel_technology\",axis=1,inplace=True)\n",
        "data[\"alternative_fuel_technology\"]=Enco9"
      ],
      "metadata": {
        "execution": {
          "iopub.status.busy": "2024-04-10T18:42:13.64064Z",
          "iopub.execute_input": "2024-04-10T18:42:13.640912Z",
          "iopub.status.idle": "2024-04-10T18:42:13.661031Z",
          "shell.execute_reply.started": "2024-04-10T18:42:13.640888Z",
          "shell.execute_reply": "2024-04-10T18:42:13.659851Z"
        },
        "trusted": true,
        "id": "7GNjlljzXZq6"
      },
      "execution_count": 50,
      "outputs": []
    },
    {
      "cell_type": "code",
      "source": [
        "data.isnull().sum()"
      ],
      "metadata": {
        "execution": {
          "iopub.status.busy": "2024-04-10T18:42:13.662454Z",
          "iopub.execute_input": "2024-04-10T18:42:13.662755Z",
          "iopub.status.idle": "2024-04-10T18:42:13.676173Z",
          "shell.execute_reply.started": "2024-04-10T18:42:13.662729Z",
          "shell.execute_reply": "2024-04-10T18:42:13.675298Z"
        },
        "trusted": true,
        "colab": {
          "base_uri": "https://localhost:8080/"
        },
        "id": "UwQdiPWhXZq7",
        "outputId": "2e6acc85-9275-44ac-9b28-0fd33d1f15a5"
      },
      "execution_count": 51,
      "outputs": [
        {
          "output_type": "execute_result",
          "data": {
            "text/plain": [
              "year                               0\n",
              "engine_index                       0\n",
              "engine_cylinders                   0\n",
              "engine_displacement                0\n",
              "supercharger                   38113\n",
              "                               ...  \n",
              "transmission_type                  0\n",
              "engine_descriptor                  0\n",
              "fuel_type                          0\n",
              "fuel_type_1                        0\n",
              "alternative_fuel_technology        0\n",
              "Length: 65, dtype: int64"
            ]
          },
          "metadata": {},
          "execution_count": 51
        }
      ]
    },
    {
      "cell_type": "code",
      "source": [
        "data.dtypes"
      ],
      "metadata": {
        "execution": {
          "iopub.status.busy": "2024-04-10T18:42:13.677695Z",
          "iopub.execute_input": "2024-04-10T18:42:13.677964Z",
          "iopub.status.idle": "2024-04-10T18:42:13.684819Z",
          "shell.execute_reply.started": "2024-04-10T18:42:13.67794Z",
          "shell.execute_reply": "2024-04-10T18:42:13.683737Z"
        },
        "trusted": true,
        "colab": {
          "base_uri": "https://localhost:8080/"
        },
        "id": "eqeltbztXZq7",
        "outputId": "1b63d210-0b7d-4b95-bbf8-44b7b9683882"
      },
      "execution_count": 52,
      "outputs": [
        {
          "output_type": "execute_result",
          "data": {
            "text/plain": [
              "year                             int64\n",
              "engine_index                     int64\n",
              "engine_cylinders               float64\n",
              "engine_displacement            float64\n",
              "supercharger                   float64\n",
              "                                ...   \n",
              "transmission_type                int64\n",
              "engine_descriptor                int64\n",
              "fuel_type                        int64\n",
              "fuel_type_1                      int64\n",
              "alternative_fuel_technology      int64\n",
              "Length: 65, dtype: object"
            ]
          },
          "metadata": {},
          "execution_count": 52
        }
      ]
    },
    {
      "cell_type": "code",
      "source": [
        "liste5=[]\n",
        "for column in data.columns:\n",
        "    if data[column].dtypes==object:\n",
        "        liste5.append(column)\n",
        "print(liste5)"
      ],
      "metadata": {
        "execution": {
          "iopub.status.busy": "2024-04-10T18:42:13.686131Z",
          "iopub.execute_input": "2024-04-10T18:42:13.686965Z",
          "iopub.status.idle": "2024-04-10T18:42:13.695999Z",
          "shell.execute_reply.started": "2024-04-10T18:42:13.686927Z",
          "shell.execute_reply": "2024-04-10T18:42:13.695088Z"
        },
        "trusted": true,
        "colab": {
          "base_uri": "https://localhost:8080/"
        },
        "id": "W6rcQB4fXZq8",
        "outputId": "6de68e84-ee48-4ddb-f4a2-a0067d256f1b"
      },
      "execution_count": 53,
      "outputs": [
        {
          "output_type": "stream",
          "name": "stdout",
          "text": [
            "['my_mpg_data']\n"
          ]
        }
      ]
    },
    {
      "cell_type": "code",
      "source": [
        "from sklearn.preprocessing import LabelEncoder\n",
        "En=LabelEncoder()\n",
        "Enco10=En.fit_transform(data[\"my_mpg_data\"])\n",
        "data.drop(\"my_mpg_data\",axis=1,inplace=True)\n",
        "data[\"my_mpg_data\"]=Enco10"
      ],
      "metadata": {
        "execution": {
          "iopub.status.busy": "2024-04-10T18:42:13.697216Z",
          "iopub.execute_input": "2024-04-10T18:42:13.697593Z",
          "iopub.status.idle": "2024-04-10T18:42:13.717863Z",
          "shell.execute_reply.started": "2024-04-10T18:42:13.697561Z",
          "shell.execute_reply": "2024-04-10T18:42:13.717012Z"
        },
        "trusted": true,
        "id": "FK3d-bNaXZq8"
      },
      "execution_count": 54,
      "outputs": []
    },
    {
      "cell_type": "code",
      "source": [
        "liste4=[]\n",
        "for column in data.columns:\n",
        "    liste4.append(column)\n",
        "print(liste4)"
      ],
      "metadata": {
        "execution": {
          "iopub.status.busy": "2024-04-10T18:42:13.719352Z",
          "iopub.execute_input": "2024-04-10T18:42:13.719815Z",
          "iopub.status.idle": "2024-04-10T18:42:13.72418Z",
          "shell.execute_reply.started": "2024-04-10T18:42:13.719787Z",
          "shell.execute_reply": "2024-04-10T18:42:13.723444Z"
        },
        "trusted": true,
        "colab": {
          "base_uri": "https://localhost:8080/"
        },
        "id": "agF9eCLcXZq9",
        "outputId": "a1f3b1fd-5588-498a-f98d-8e9733bd972d"
      },
      "execution_count": 55,
      "outputs": [
        {
          "output_type": "stream",
          "name": "stdout",
          "text": [
            "['year', 'engine_index', 'engine_cylinders', 'engine_displacement', 'supercharger', 'city_mpg_ft1', 'unrounded_city_mpg_ft1', 'city_mpg_ft2', 'unrounded_city_mpg_ft2', 'city_gasoline_consumption_cd', 'city_utility_factor', 'highway_mpg_ft1', 'unrounded_highway_mpg_ft1', 'highway_mpg_ft2', 'unrounded_highway_mpg_ft2', 'highway_gasoline_consumption_cd', 'highway_utility_factor', 'unadjusted_city_mpg_ft1', 'unadjusted_highway_mpg_ft1', 'unadjusted_city_mpg_ft2', 'unadjusted_highway_mpg_ft2', 'combined_mpg_ft1', 'unrounded_combined_mpg_ft1', 'combined_mpg_ft2', 'unrounded_combined_mpg_ft2', 'combined_gasoline_consumption_cd', 'combined_utility_factor', 'annual_fuel_cost_ft1', 'annual_fuel_cost_ft2', 'save_or_spend_5_year', 'annual_consumption_in_barrels_ft1', 'annual_consumption_in_barrels_ft2', 'tailpipe_co2_ft1', 'tailpipe_co2_in_grams_mile_ft1', 'tailpipe_co2_ft2', 'tailpipe_co2_in_grams_mile_ft2', 'fuel_economy_score', 'ghg_score', 'ghg_score_alt_fuel', 'x2d_passenger_volume', 'x2d_luggage_volume', 'x4d_passenger_volume', 'x4d_luggage_volume', 'hatchback_passenger_volume', 'hatchback_luggage_volume', 'gasoline_electricity_blended_cd', 'composite_city_mpg', 'composite_highway_mpg', 'composite_combined_mpg', 'range_ft1', 'city_range_ft1', 'highway_range_ft1', 'city_range_ft2', 'highway_range_ft2', 'make', 'model', 'class', 'drive', 'transmission', 'transmission_type', 'engine_descriptor', 'fuel_type', 'fuel_type_1', 'alternative_fuel_technology', 'my_mpg_data']\n"
          ]
        }
      ]
    },
    {
      "cell_type": "markdown",
      "source": [
        "city gasoline consumption"
      ],
      "metadata": {
        "id": "KuVSv-e8XZq9"
      }
    },
    {
      "cell_type": "code",
      "source": [
        "data=data[['year', 'engine_index', 'engine_cylinders', 'engine_displacement', 'city_mpg_ft1', 'unrounded_city_mpg_ft1', 'city_mpg_ft2', 'unrounded_city_mpg_ft2', 'city_utility_factor', 'highway_mpg_ft1', 'unrounded_highway_mpg_ft1', 'highway_mpg_ft2', 'unrounded_highway_mpg_ft2', 'highway_gasoline_consumption_cd', 'highway_utility_factor', 'unadjusted_city_mpg_ft1', 'unadjusted_highway_mpg_ft1', 'unadjusted_city_mpg_ft2', 'unadjusted_highway_mpg_ft2', 'combined_mpg_ft1', 'unrounded_combined_mpg_ft1', 'combined_mpg_ft2', 'unrounded_combined_mpg_ft2', 'combined_gasoline_consumption_cd', 'combined_utility_factor', 'annual_fuel_cost_ft1', 'annual_fuel_cost_ft2', 'save_or_spend_5_year', 'annual_consumption_in_barrels_ft1', 'annual_consumption_in_barrels_ft2', 'tailpipe_co2_ft1', 'tailpipe_co2_in_grams_mile_ft1', 'tailpipe_co2_ft2', 'tailpipe_co2_in_grams_mile_ft2', 'fuel_economy_score', 'ghg_score', 'ghg_score_alt_fuel', 'my_mpg_data', 'x2d_passenger_volume', 'x2d_luggage_volume', 'x4d_passenger_volume', 'x4d_luggage_volume', 'hatchback_passenger_volume', 'hatchback_luggage_volume', 'gasoline_electricity_blended_cd', 'composite_city_mpg', 'composite_highway_mpg', 'composite_combined_mpg', 'range_ft1', 'city_range_ft1', 'highway_range_ft1', 'city_range_ft2', 'highway_range_ft2', 'make', 'model', 'class', 'drive', 'transmission', 'transmission_type', 'engine_descriptor', 'fuel_type', 'fuel_type_1', 'alternative_fuel_technology','city_gasoline_consumption_cd']]"
      ],
      "metadata": {
        "execution": {
          "iopub.status.busy": "2024-04-10T18:42:13.725128Z",
          "iopub.execute_input": "2024-04-10T18:42:13.725963Z",
          "iopub.status.idle": "2024-04-10T18:42:13.74021Z",
          "shell.execute_reply.started": "2024-04-10T18:42:13.725935Z",
          "shell.execute_reply": "2024-04-10T18:42:13.739346Z"
        },
        "trusted": true,
        "id": "9UCpFBPNXZq_"
      },
      "execution_count": 56,
      "outputs": []
    },
    {
      "cell_type": "markdown",
      "source": [
        "Highway gasoline Consumption"
      ],
      "metadata": {
        "id": "hvbdLEKEXZrA"
      }
    },
    {
      "cell_type": "code",
      "source": [
        "data2=data[['year', 'engine_index', 'engine_cylinders', 'engine_displacement', 'city_mpg_ft1', 'unrounded_city_mpg_ft1', 'city_mpg_ft2', 'unrounded_city_mpg_ft2', 'city_gasoline_consumption_cd', 'city_utility_factor', 'highway_mpg_ft1', 'unrounded_highway_mpg_ft1', 'highway_mpg_ft2', 'unrounded_highway_mpg_ft2', 'highway_utility_factor', 'unadjusted_city_mpg_ft1', 'unadjusted_highway_mpg_ft1', 'unadjusted_city_mpg_ft2', 'unadjusted_highway_mpg_ft2', 'combined_mpg_ft1', 'unrounded_combined_mpg_ft1', 'combined_mpg_ft2', 'unrounded_combined_mpg_ft2', 'combined_gasoline_consumption_cd', 'combined_utility_factor', 'annual_fuel_cost_ft1', 'annual_fuel_cost_ft2', 'save_or_spend_5_year', 'annual_consumption_in_barrels_ft1', 'annual_consumption_in_barrels_ft2', 'tailpipe_co2_ft1', 'tailpipe_co2_in_grams_mile_ft1', 'tailpipe_co2_ft2', 'tailpipe_co2_in_grams_mile_ft2', 'fuel_economy_score', 'ghg_score', 'ghg_score_alt_fuel', 'my_mpg_data', 'x2d_passenger_volume', 'x2d_luggage_volume', 'x4d_passenger_volume', 'x4d_luggage_volume', 'hatchback_passenger_volume', 'hatchback_luggage_volume', 'gasoline_electricity_blended_cd', 'composite_city_mpg', 'composite_highway_mpg', 'composite_combined_mpg', 'range_ft1', 'city_range_ft1', 'highway_range_ft1', 'city_range_ft2', 'highway_range_ft2', 'make', 'model', 'class', 'drive', 'transmission', 'transmission_type', 'engine_descriptor', 'fuel_type', 'fuel_type_1', 'alternative_fuel_technology','highway_gasoline_consumption_cd']]"
      ],
      "metadata": {
        "execution": {
          "iopub.status.busy": "2024-04-10T18:42:13.741253Z",
          "iopub.execute_input": "2024-04-10T18:42:13.74187Z",
          "iopub.status.idle": "2024-04-10T18:42:13.754122Z",
          "shell.execute_reply.started": "2024-04-10T18:42:13.741836Z",
          "shell.execute_reply": "2024-04-10T18:42:13.753129Z"
        },
        "trusted": true,
        "id": "_5WRbYzbXZrB"
      },
      "execution_count": 57,
      "outputs": []
    },
    {
      "cell_type": "code",
      "source": [
        "X=data.iloc[:,:-1]\n",
        "X.head()"
      ],
      "metadata": {
        "execution": {
          "iopub.status.busy": "2024-04-10T18:42:13.75668Z",
          "iopub.execute_input": "2024-04-10T18:42:13.757442Z",
          "iopub.status.idle": "2024-04-10T18:42:13.784824Z",
          "shell.execute_reply.started": "2024-04-10T18:42:13.757413Z",
          "shell.execute_reply": "2024-04-10T18:42:13.783747Z"
        },
        "trusted": true,
        "colab": {
          "base_uri": "https://localhost:8080/",
          "height": 255
        },
        "id": "OwfgI112XZrC",
        "outputId": "82efa2e1-31fd-43d1-c443-d3cbe271c13b"
      },
      "execution_count": 58,
      "outputs": [
        {
          "output_type": "execute_result",
          "data": {
            "text/plain": [
              "   year  engine_index  engine_cylinders  engine_displacement  city_mpg_ft1  \\\n",
              "0  1984          9001               6.0                  2.5            17   \n",
              "1  1984          9005               6.0                  2.5            17   \n",
              "2  1984          9002               4.0                  2.0            18   \n",
              "3  1984          9006               4.0                  2.0            18   \n",
              "4  1984          1830               4.0                  2.5            18   \n",
              "\n",
              "   unrounded_city_mpg_ft1  city_mpg_ft2  unrounded_city_mpg_ft2  \\\n",
              "0                     0.0             0                     0.0   \n",
              "1                     0.0             0                     0.0   \n",
              "2                     0.0             0                     0.0   \n",
              "3                     0.0             0                     0.0   \n",
              "4                     0.0             0                     0.0   \n",
              "\n",
              "   city_utility_factor  highway_mpg_ft1  ...  make  model  class  drive  \\\n",
              "0                  0.0               24  ...     3   1788      5      4   \n",
              "1                  0.0               24  ...     3   1788      5      4   \n",
              "2                  0.0               25  ...     3   3126     29      4   \n",
              "3                  0.0               25  ...     3   3126     29      4   \n",
              "4                  0.0               17  ...     0   1260     15      0   \n",
              "\n",
              "   transmission  transmission_type  engine_descriptor  fuel_type  fuel_type_1  \\\n",
              "0            42                 18                 64         11            5   \n",
              "1            42                 18                 86         11            5   \n",
              "2            42                 18                 64         11            5   \n",
              "3            42                 18                 86         11            5   \n",
              "4            30                 18                 64         11            5   \n",
              "\n",
              "   alternative_fuel_technology  \n",
              "0                            5  \n",
              "1                            5  \n",
              "2                            5  \n",
              "3                            5  \n",
              "4                            5  \n",
              "\n",
              "[5 rows x 63 columns]"
            ],
            "text/html": [
              "\n",
              "  <div id=\"df-7cc1a28b-0626-46bf-8a92-81583437173a\" class=\"colab-df-container\">\n",
              "    <div>\n",
              "<style scoped>\n",
              "    .dataframe tbody tr th:only-of-type {\n",
              "        vertical-align: middle;\n",
              "    }\n",
              "\n",
              "    .dataframe tbody tr th {\n",
              "        vertical-align: top;\n",
              "    }\n",
              "\n",
              "    .dataframe thead th {\n",
              "        text-align: right;\n",
              "    }\n",
              "</style>\n",
              "<table border=\"1\" class=\"dataframe\">\n",
              "  <thead>\n",
              "    <tr style=\"text-align: right;\">\n",
              "      <th></th>\n",
              "      <th>year</th>\n",
              "      <th>engine_index</th>\n",
              "      <th>engine_cylinders</th>\n",
              "      <th>engine_displacement</th>\n",
              "      <th>city_mpg_ft1</th>\n",
              "      <th>unrounded_city_mpg_ft1</th>\n",
              "      <th>city_mpg_ft2</th>\n",
              "      <th>unrounded_city_mpg_ft2</th>\n",
              "      <th>city_utility_factor</th>\n",
              "      <th>highway_mpg_ft1</th>\n",
              "      <th>...</th>\n",
              "      <th>make</th>\n",
              "      <th>model</th>\n",
              "      <th>class</th>\n",
              "      <th>drive</th>\n",
              "      <th>transmission</th>\n",
              "      <th>transmission_type</th>\n",
              "      <th>engine_descriptor</th>\n",
              "      <th>fuel_type</th>\n",
              "      <th>fuel_type_1</th>\n",
              "      <th>alternative_fuel_technology</th>\n",
              "    </tr>\n",
              "  </thead>\n",
              "  <tbody>\n",
              "    <tr>\n",
              "      <th>0</th>\n",
              "      <td>1984</td>\n",
              "      <td>9001</td>\n",
              "      <td>6.0</td>\n",
              "      <td>2.5</td>\n",
              "      <td>17</td>\n",
              "      <td>0.0</td>\n",
              "      <td>0</td>\n",
              "      <td>0.0</td>\n",
              "      <td>0.0</td>\n",
              "      <td>24</td>\n",
              "      <td>...</td>\n",
              "      <td>3</td>\n",
              "      <td>1788</td>\n",
              "      <td>5</td>\n",
              "      <td>4</td>\n",
              "      <td>42</td>\n",
              "      <td>18</td>\n",
              "      <td>64</td>\n",
              "      <td>11</td>\n",
              "      <td>5</td>\n",
              "      <td>5</td>\n",
              "    </tr>\n",
              "    <tr>\n",
              "      <th>1</th>\n",
              "      <td>1984</td>\n",
              "      <td>9005</td>\n",
              "      <td>6.0</td>\n",
              "      <td>2.5</td>\n",
              "      <td>17</td>\n",
              "      <td>0.0</td>\n",
              "      <td>0</td>\n",
              "      <td>0.0</td>\n",
              "      <td>0.0</td>\n",
              "      <td>24</td>\n",
              "      <td>...</td>\n",
              "      <td>3</td>\n",
              "      <td>1788</td>\n",
              "      <td>5</td>\n",
              "      <td>4</td>\n",
              "      <td>42</td>\n",
              "      <td>18</td>\n",
              "      <td>86</td>\n",
              "      <td>11</td>\n",
              "      <td>5</td>\n",
              "      <td>5</td>\n",
              "    </tr>\n",
              "    <tr>\n",
              "      <th>2</th>\n",
              "      <td>1984</td>\n",
              "      <td>9002</td>\n",
              "      <td>4.0</td>\n",
              "      <td>2.0</td>\n",
              "      <td>18</td>\n",
              "      <td>0.0</td>\n",
              "      <td>0</td>\n",
              "      <td>0.0</td>\n",
              "      <td>0.0</td>\n",
              "      <td>25</td>\n",
              "      <td>...</td>\n",
              "      <td>3</td>\n",
              "      <td>3126</td>\n",
              "      <td>29</td>\n",
              "      <td>4</td>\n",
              "      <td>42</td>\n",
              "      <td>18</td>\n",
              "      <td>64</td>\n",
              "      <td>11</td>\n",
              "      <td>5</td>\n",
              "      <td>5</td>\n",
              "    </tr>\n",
              "    <tr>\n",
              "      <th>3</th>\n",
              "      <td>1984</td>\n",
              "      <td>9006</td>\n",
              "      <td>4.0</td>\n",
              "      <td>2.0</td>\n",
              "      <td>18</td>\n",
              "      <td>0.0</td>\n",
              "      <td>0</td>\n",
              "      <td>0.0</td>\n",
              "      <td>0.0</td>\n",
              "      <td>25</td>\n",
              "      <td>...</td>\n",
              "      <td>3</td>\n",
              "      <td>3126</td>\n",
              "      <td>29</td>\n",
              "      <td>4</td>\n",
              "      <td>42</td>\n",
              "      <td>18</td>\n",
              "      <td>86</td>\n",
              "      <td>11</td>\n",
              "      <td>5</td>\n",
              "      <td>5</td>\n",
              "    </tr>\n",
              "    <tr>\n",
              "      <th>4</th>\n",
              "      <td>1984</td>\n",
              "      <td>1830</td>\n",
              "      <td>4.0</td>\n",
              "      <td>2.5</td>\n",
              "      <td>18</td>\n",
              "      <td>0.0</td>\n",
              "      <td>0</td>\n",
              "      <td>0.0</td>\n",
              "      <td>0.0</td>\n",
              "      <td>17</td>\n",
              "      <td>...</td>\n",
              "      <td>0</td>\n",
              "      <td>1260</td>\n",
              "      <td>15</td>\n",
              "      <td>0</td>\n",
              "      <td>30</td>\n",
              "      <td>18</td>\n",
              "      <td>64</td>\n",
              "      <td>11</td>\n",
              "      <td>5</td>\n",
              "      <td>5</td>\n",
              "    </tr>\n",
              "  </tbody>\n",
              "</table>\n",
              "<p>5 rows × 63 columns</p>\n",
              "</div>\n",
              "    <div class=\"colab-df-buttons\">\n",
              "\n",
              "  <div class=\"colab-df-container\">\n",
              "    <button class=\"colab-df-convert\" onclick=\"convertToInteractive('df-7cc1a28b-0626-46bf-8a92-81583437173a')\"\n",
              "            title=\"Convert this dataframe to an interactive table.\"\n",
              "            style=\"display:none;\">\n",
              "\n",
              "  <svg xmlns=\"http://www.w3.org/2000/svg\" height=\"24px\" viewBox=\"0 -960 960 960\">\n",
              "    <path d=\"M120-120v-720h720v720H120Zm60-500h600v-160H180v160Zm220 220h160v-160H400v160Zm0 220h160v-160H400v160ZM180-400h160v-160H180v160Zm440 0h160v-160H620v160ZM180-180h160v-160H180v160Zm440 0h160v-160H620v160Z\"/>\n",
              "  </svg>\n",
              "    </button>\n",
              "\n",
              "  <style>\n",
              "    .colab-df-container {\n",
              "      display:flex;\n",
              "      gap: 12px;\n",
              "    }\n",
              "\n",
              "    .colab-df-convert {\n",
              "      background-color: #E8F0FE;\n",
              "      border: none;\n",
              "      border-radius: 50%;\n",
              "      cursor: pointer;\n",
              "      display: none;\n",
              "      fill: #1967D2;\n",
              "      height: 32px;\n",
              "      padding: 0 0 0 0;\n",
              "      width: 32px;\n",
              "    }\n",
              "\n",
              "    .colab-df-convert:hover {\n",
              "      background-color: #E2EBFA;\n",
              "      box-shadow: 0px 1px 2px rgba(60, 64, 67, 0.3), 0px 1px 3px 1px rgba(60, 64, 67, 0.15);\n",
              "      fill: #174EA6;\n",
              "    }\n",
              "\n",
              "    .colab-df-buttons div {\n",
              "      margin-bottom: 4px;\n",
              "    }\n",
              "\n",
              "    [theme=dark] .colab-df-convert {\n",
              "      background-color: #3B4455;\n",
              "      fill: #D2E3FC;\n",
              "    }\n",
              "\n",
              "    [theme=dark] .colab-df-convert:hover {\n",
              "      background-color: #434B5C;\n",
              "      box-shadow: 0px 1px 3px 1px rgba(0, 0, 0, 0.15);\n",
              "      filter: drop-shadow(0px 1px 2px rgba(0, 0, 0, 0.3));\n",
              "      fill: #FFFFFF;\n",
              "    }\n",
              "  </style>\n",
              "\n",
              "    <script>\n",
              "      const buttonEl =\n",
              "        document.querySelector('#df-7cc1a28b-0626-46bf-8a92-81583437173a button.colab-df-convert');\n",
              "      buttonEl.style.display =\n",
              "        google.colab.kernel.accessAllowed ? 'block' : 'none';\n",
              "\n",
              "      async function convertToInteractive(key) {\n",
              "        const element = document.querySelector('#df-7cc1a28b-0626-46bf-8a92-81583437173a');\n",
              "        const dataTable =\n",
              "          await google.colab.kernel.invokeFunction('convertToInteractive',\n",
              "                                                    [key], {});\n",
              "        if (!dataTable) return;\n",
              "\n",
              "        const docLinkHtml = 'Like what you see? Visit the ' +\n",
              "          '<a target=\"_blank\" href=https://colab.research.google.com/notebooks/data_table.ipynb>data table notebook</a>'\n",
              "          + ' to learn more about interactive tables.';\n",
              "        element.innerHTML = '';\n",
              "        dataTable['output_type'] = 'display_data';\n",
              "        await google.colab.output.renderOutput(dataTable, element);\n",
              "        const docLink = document.createElement('div');\n",
              "        docLink.innerHTML = docLinkHtml;\n",
              "        element.appendChild(docLink);\n",
              "      }\n",
              "    </script>\n",
              "  </div>\n",
              "\n",
              "\n",
              "<div id=\"df-655791a4-7862-4cbf-bc61-2a5651ad4ef4\">\n",
              "  <button class=\"colab-df-quickchart\" onclick=\"quickchart('df-655791a4-7862-4cbf-bc61-2a5651ad4ef4')\"\n",
              "            title=\"Suggest charts\"\n",
              "            style=\"display:none;\">\n",
              "\n",
              "<svg xmlns=\"http://www.w3.org/2000/svg\" height=\"24px\"viewBox=\"0 0 24 24\"\n",
              "     width=\"24px\">\n",
              "    <g>\n",
              "        <path d=\"M19 3H5c-1.1 0-2 .9-2 2v14c0 1.1.9 2 2 2h14c1.1 0 2-.9 2-2V5c0-1.1-.9-2-2-2zM9 17H7v-7h2v7zm4 0h-2V7h2v10zm4 0h-2v-4h2v4z\"/>\n",
              "    </g>\n",
              "</svg>\n",
              "  </button>\n",
              "\n",
              "<style>\n",
              "  .colab-df-quickchart {\n",
              "      --bg-color: #E8F0FE;\n",
              "      --fill-color: #1967D2;\n",
              "      --hover-bg-color: #E2EBFA;\n",
              "      --hover-fill-color: #174EA6;\n",
              "      --disabled-fill-color: #AAA;\n",
              "      --disabled-bg-color: #DDD;\n",
              "  }\n",
              "\n",
              "  [theme=dark] .colab-df-quickchart {\n",
              "      --bg-color: #3B4455;\n",
              "      --fill-color: #D2E3FC;\n",
              "      --hover-bg-color: #434B5C;\n",
              "      --hover-fill-color: #FFFFFF;\n",
              "      --disabled-bg-color: #3B4455;\n",
              "      --disabled-fill-color: #666;\n",
              "  }\n",
              "\n",
              "  .colab-df-quickchart {\n",
              "    background-color: var(--bg-color);\n",
              "    border: none;\n",
              "    border-radius: 50%;\n",
              "    cursor: pointer;\n",
              "    display: none;\n",
              "    fill: var(--fill-color);\n",
              "    height: 32px;\n",
              "    padding: 0;\n",
              "    width: 32px;\n",
              "  }\n",
              "\n",
              "  .colab-df-quickchart:hover {\n",
              "    background-color: var(--hover-bg-color);\n",
              "    box-shadow: 0 1px 2px rgba(60, 64, 67, 0.3), 0 1px 3px 1px rgba(60, 64, 67, 0.15);\n",
              "    fill: var(--button-hover-fill-color);\n",
              "  }\n",
              "\n",
              "  .colab-df-quickchart-complete:disabled,\n",
              "  .colab-df-quickchart-complete:disabled:hover {\n",
              "    background-color: var(--disabled-bg-color);\n",
              "    fill: var(--disabled-fill-color);\n",
              "    box-shadow: none;\n",
              "  }\n",
              "\n",
              "  .colab-df-spinner {\n",
              "    border: 2px solid var(--fill-color);\n",
              "    border-color: transparent;\n",
              "    border-bottom-color: var(--fill-color);\n",
              "    animation:\n",
              "      spin 1s steps(1) infinite;\n",
              "  }\n",
              "\n",
              "  @keyframes spin {\n",
              "    0% {\n",
              "      border-color: transparent;\n",
              "      border-bottom-color: var(--fill-color);\n",
              "      border-left-color: var(--fill-color);\n",
              "    }\n",
              "    20% {\n",
              "      border-color: transparent;\n",
              "      border-left-color: var(--fill-color);\n",
              "      border-top-color: var(--fill-color);\n",
              "    }\n",
              "    30% {\n",
              "      border-color: transparent;\n",
              "      border-left-color: var(--fill-color);\n",
              "      border-top-color: var(--fill-color);\n",
              "      border-right-color: var(--fill-color);\n",
              "    }\n",
              "    40% {\n",
              "      border-color: transparent;\n",
              "      border-right-color: var(--fill-color);\n",
              "      border-top-color: var(--fill-color);\n",
              "    }\n",
              "    60% {\n",
              "      border-color: transparent;\n",
              "      border-right-color: var(--fill-color);\n",
              "    }\n",
              "    80% {\n",
              "      border-color: transparent;\n",
              "      border-right-color: var(--fill-color);\n",
              "      border-bottom-color: var(--fill-color);\n",
              "    }\n",
              "    90% {\n",
              "      border-color: transparent;\n",
              "      border-bottom-color: var(--fill-color);\n",
              "    }\n",
              "  }\n",
              "</style>\n",
              "\n",
              "  <script>\n",
              "    async function quickchart(key) {\n",
              "      const quickchartButtonEl =\n",
              "        document.querySelector('#' + key + ' button');\n",
              "      quickchartButtonEl.disabled = true;  // To prevent multiple clicks.\n",
              "      quickchartButtonEl.classList.add('colab-df-spinner');\n",
              "      try {\n",
              "        const charts = await google.colab.kernel.invokeFunction(\n",
              "            'suggestCharts', [key], {});\n",
              "      } catch (error) {\n",
              "        console.error('Error during call to suggestCharts:', error);\n",
              "      }\n",
              "      quickchartButtonEl.classList.remove('colab-df-spinner');\n",
              "      quickchartButtonEl.classList.add('colab-df-quickchart-complete');\n",
              "    }\n",
              "    (() => {\n",
              "      let quickchartButtonEl =\n",
              "        document.querySelector('#df-655791a4-7862-4cbf-bc61-2a5651ad4ef4 button');\n",
              "      quickchartButtonEl.style.display =\n",
              "        google.colab.kernel.accessAllowed ? 'block' : 'none';\n",
              "    })();\n",
              "  </script>\n",
              "</div>\n",
              "\n",
              "    </div>\n",
              "  </div>\n"
            ],
            "application/vnd.google.colaboratory.intrinsic+json": {
              "type": "dataframe",
              "variable_name": "X"
            }
          },
          "metadata": {},
          "execution_count": 58
        }
      ]
    },
    {
      "cell_type": "code",
      "source": [
        "y=data.iloc[:,-1:]\n",
        "y.head()"
      ],
      "metadata": {
        "execution": {
          "iopub.status.busy": "2024-04-10T18:42:13.786058Z",
          "iopub.execute_input": "2024-04-10T18:42:13.786646Z",
          "iopub.status.idle": "2024-04-10T18:42:13.796238Z",
          "shell.execute_reply.started": "2024-04-10T18:42:13.786607Z",
          "shell.execute_reply": "2024-04-10T18:42:13.795295Z"
        },
        "trusted": true,
        "colab": {
          "base_uri": "https://localhost:8080/",
          "height": 206
        },
        "id": "VhlNYhx4XZrD",
        "outputId": "14253624-547d-4a1d-e870-4f72c66ca470"
      },
      "execution_count": 59,
      "outputs": [
        {
          "output_type": "execute_result",
          "data": {
            "text/plain": [
              "   city_gasoline_consumption_cd\n",
              "0                           0.0\n",
              "1                           0.0\n",
              "2                           0.0\n",
              "3                           0.0\n",
              "4                           0.0"
            ],
            "text/html": [
              "\n",
              "  <div id=\"df-cf5180e4-f087-4f40-82ce-3f0b703bf9c9\" class=\"colab-df-container\">\n",
              "    <div>\n",
              "<style scoped>\n",
              "    .dataframe tbody tr th:only-of-type {\n",
              "        vertical-align: middle;\n",
              "    }\n",
              "\n",
              "    .dataframe tbody tr th {\n",
              "        vertical-align: top;\n",
              "    }\n",
              "\n",
              "    .dataframe thead th {\n",
              "        text-align: right;\n",
              "    }\n",
              "</style>\n",
              "<table border=\"1\" class=\"dataframe\">\n",
              "  <thead>\n",
              "    <tr style=\"text-align: right;\">\n",
              "      <th></th>\n",
              "      <th>city_gasoline_consumption_cd</th>\n",
              "    </tr>\n",
              "  </thead>\n",
              "  <tbody>\n",
              "    <tr>\n",
              "      <th>0</th>\n",
              "      <td>0.0</td>\n",
              "    </tr>\n",
              "    <tr>\n",
              "      <th>1</th>\n",
              "      <td>0.0</td>\n",
              "    </tr>\n",
              "    <tr>\n",
              "      <th>2</th>\n",
              "      <td>0.0</td>\n",
              "    </tr>\n",
              "    <tr>\n",
              "      <th>3</th>\n",
              "      <td>0.0</td>\n",
              "    </tr>\n",
              "    <tr>\n",
              "      <th>4</th>\n",
              "      <td>0.0</td>\n",
              "    </tr>\n",
              "  </tbody>\n",
              "</table>\n",
              "</div>\n",
              "    <div class=\"colab-df-buttons\">\n",
              "\n",
              "  <div class=\"colab-df-container\">\n",
              "    <button class=\"colab-df-convert\" onclick=\"convertToInteractive('df-cf5180e4-f087-4f40-82ce-3f0b703bf9c9')\"\n",
              "            title=\"Convert this dataframe to an interactive table.\"\n",
              "            style=\"display:none;\">\n",
              "\n",
              "  <svg xmlns=\"http://www.w3.org/2000/svg\" height=\"24px\" viewBox=\"0 -960 960 960\">\n",
              "    <path d=\"M120-120v-720h720v720H120Zm60-500h600v-160H180v160Zm220 220h160v-160H400v160Zm0 220h160v-160H400v160ZM180-400h160v-160H180v160Zm440 0h160v-160H620v160ZM180-180h160v-160H180v160Zm440 0h160v-160H620v160Z\"/>\n",
              "  </svg>\n",
              "    </button>\n",
              "\n",
              "  <style>\n",
              "    .colab-df-container {\n",
              "      display:flex;\n",
              "      gap: 12px;\n",
              "    }\n",
              "\n",
              "    .colab-df-convert {\n",
              "      background-color: #E8F0FE;\n",
              "      border: none;\n",
              "      border-radius: 50%;\n",
              "      cursor: pointer;\n",
              "      display: none;\n",
              "      fill: #1967D2;\n",
              "      height: 32px;\n",
              "      padding: 0 0 0 0;\n",
              "      width: 32px;\n",
              "    }\n",
              "\n",
              "    .colab-df-convert:hover {\n",
              "      background-color: #E2EBFA;\n",
              "      box-shadow: 0px 1px 2px rgba(60, 64, 67, 0.3), 0px 1px 3px 1px rgba(60, 64, 67, 0.15);\n",
              "      fill: #174EA6;\n",
              "    }\n",
              "\n",
              "    .colab-df-buttons div {\n",
              "      margin-bottom: 4px;\n",
              "    }\n",
              "\n",
              "    [theme=dark] .colab-df-convert {\n",
              "      background-color: #3B4455;\n",
              "      fill: #D2E3FC;\n",
              "    }\n",
              "\n",
              "    [theme=dark] .colab-df-convert:hover {\n",
              "      background-color: #434B5C;\n",
              "      box-shadow: 0px 1px 3px 1px rgba(0, 0, 0, 0.15);\n",
              "      filter: drop-shadow(0px 1px 2px rgba(0, 0, 0, 0.3));\n",
              "      fill: #FFFFFF;\n",
              "    }\n",
              "  </style>\n",
              "\n",
              "    <script>\n",
              "      const buttonEl =\n",
              "        document.querySelector('#df-cf5180e4-f087-4f40-82ce-3f0b703bf9c9 button.colab-df-convert');\n",
              "      buttonEl.style.display =\n",
              "        google.colab.kernel.accessAllowed ? 'block' : 'none';\n",
              "\n",
              "      async function convertToInteractive(key) {\n",
              "        const element = document.querySelector('#df-cf5180e4-f087-4f40-82ce-3f0b703bf9c9');\n",
              "        const dataTable =\n",
              "          await google.colab.kernel.invokeFunction('convertToInteractive',\n",
              "                                                    [key], {});\n",
              "        if (!dataTable) return;\n",
              "\n",
              "        const docLinkHtml = 'Like what you see? Visit the ' +\n",
              "          '<a target=\"_blank\" href=https://colab.research.google.com/notebooks/data_table.ipynb>data table notebook</a>'\n",
              "          + ' to learn more about interactive tables.';\n",
              "        element.innerHTML = '';\n",
              "        dataTable['output_type'] = 'display_data';\n",
              "        await google.colab.output.renderOutput(dataTable, element);\n",
              "        const docLink = document.createElement('div');\n",
              "        docLink.innerHTML = docLinkHtml;\n",
              "        element.appendChild(docLink);\n",
              "      }\n",
              "    </script>\n",
              "  </div>\n",
              "\n",
              "\n",
              "<div id=\"df-05dc9c2b-18c2-4805-ab6f-d0857412c71a\">\n",
              "  <button class=\"colab-df-quickchart\" onclick=\"quickchart('df-05dc9c2b-18c2-4805-ab6f-d0857412c71a')\"\n",
              "            title=\"Suggest charts\"\n",
              "            style=\"display:none;\">\n",
              "\n",
              "<svg xmlns=\"http://www.w3.org/2000/svg\" height=\"24px\"viewBox=\"0 0 24 24\"\n",
              "     width=\"24px\">\n",
              "    <g>\n",
              "        <path d=\"M19 3H5c-1.1 0-2 .9-2 2v14c0 1.1.9 2 2 2h14c1.1 0 2-.9 2-2V5c0-1.1-.9-2-2-2zM9 17H7v-7h2v7zm4 0h-2V7h2v10zm4 0h-2v-4h2v4z\"/>\n",
              "    </g>\n",
              "</svg>\n",
              "  </button>\n",
              "\n",
              "<style>\n",
              "  .colab-df-quickchart {\n",
              "      --bg-color: #E8F0FE;\n",
              "      --fill-color: #1967D2;\n",
              "      --hover-bg-color: #E2EBFA;\n",
              "      --hover-fill-color: #174EA6;\n",
              "      --disabled-fill-color: #AAA;\n",
              "      --disabled-bg-color: #DDD;\n",
              "  }\n",
              "\n",
              "  [theme=dark] .colab-df-quickchart {\n",
              "      --bg-color: #3B4455;\n",
              "      --fill-color: #D2E3FC;\n",
              "      --hover-bg-color: #434B5C;\n",
              "      --hover-fill-color: #FFFFFF;\n",
              "      --disabled-bg-color: #3B4455;\n",
              "      --disabled-fill-color: #666;\n",
              "  }\n",
              "\n",
              "  .colab-df-quickchart {\n",
              "    background-color: var(--bg-color);\n",
              "    border: none;\n",
              "    border-radius: 50%;\n",
              "    cursor: pointer;\n",
              "    display: none;\n",
              "    fill: var(--fill-color);\n",
              "    height: 32px;\n",
              "    padding: 0;\n",
              "    width: 32px;\n",
              "  }\n",
              "\n",
              "  .colab-df-quickchart:hover {\n",
              "    background-color: var(--hover-bg-color);\n",
              "    box-shadow: 0 1px 2px rgba(60, 64, 67, 0.3), 0 1px 3px 1px rgba(60, 64, 67, 0.15);\n",
              "    fill: var(--button-hover-fill-color);\n",
              "  }\n",
              "\n",
              "  .colab-df-quickchart-complete:disabled,\n",
              "  .colab-df-quickchart-complete:disabled:hover {\n",
              "    background-color: var(--disabled-bg-color);\n",
              "    fill: var(--disabled-fill-color);\n",
              "    box-shadow: none;\n",
              "  }\n",
              "\n",
              "  .colab-df-spinner {\n",
              "    border: 2px solid var(--fill-color);\n",
              "    border-color: transparent;\n",
              "    border-bottom-color: var(--fill-color);\n",
              "    animation:\n",
              "      spin 1s steps(1) infinite;\n",
              "  }\n",
              "\n",
              "  @keyframes spin {\n",
              "    0% {\n",
              "      border-color: transparent;\n",
              "      border-bottom-color: var(--fill-color);\n",
              "      border-left-color: var(--fill-color);\n",
              "    }\n",
              "    20% {\n",
              "      border-color: transparent;\n",
              "      border-left-color: var(--fill-color);\n",
              "      border-top-color: var(--fill-color);\n",
              "    }\n",
              "    30% {\n",
              "      border-color: transparent;\n",
              "      border-left-color: var(--fill-color);\n",
              "      border-top-color: var(--fill-color);\n",
              "      border-right-color: var(--fill-color);\n",
              "    }\n",
              "    40% {\n",
              "      border-color: transparent;\n",
              "      border-right-color: var(--fill-color);\n",
              "      border-top-color: var(--fill-color);\n",
              "    }\n",
              "    60% {\n",
              "      border-color: transparent;\n",
              "      border-right-color: var(--fill-color);\n",
              "    }\n",
              "    80% {\n",
              "      border-color: transparent;\n",
              "      border-right-color: var(--fill-color);\n",
              "      border-bottom-color: var(--fill-color);\n",
              "    }\n",
              "    90% {\n",
              "      border-color: transparent;\n",
              "      border-bottom-color: var(--fill-color);\n",
              "    }\n",
              "  }\n",
              "</style>\n",
              "\n",
              "  <script>\n",
              "    async function quickchart(key) {\n",
              "      const quickchartButtonEl =\n",
              "        document.querySelector('#' + key + ' button');\n",
              "      quickchartButtonEl.disabled = true;  // To prevent multiple clicks.\n",
              "      quickchartButtonEl.classList.add('colab-df-spinner');\n",
              "      try {\n",
              "        const charts = await google.colab.kernel.invokeFunction(\n",
              "            'suggestCharts', [key], {});\n",
              "      } catch (error) {\n",
              "        console.error('Error during call to suggestCharts:', error);\n",
              "      }\n",
              "      quickchartButtonEl.classList.remove('colab-df-spinner');\n",
              "      quickchartButtonEl.classList.add('colab-df-quickchart-complete');\n",
              "    }\n",
              "    (() => {\n",
              "      let quickchartButtonEl =\n",
              "        document.querySelector('#df-05dc9c2b-18c2-4805-ab6f-d0857412c71a button');\n",
              "      quickchartButtonEl.style.display =\n",
              "        google.colab.kernel.accessAllowed ? 'block' : 'none';\n",
              "    })();\n",
              "  </script>\n",
              "</div>\n",
              "\n",
              "    </div>\n",
              "  </div>\n"
            ],
            "application/vnd.google.colaboratory.intrinsic+json": {
              "type": "dataframe",
              "variable_name": "y",
              "summary": "{\n  \"name\": \"y\",\n  \"rows\": 38113,\n  \"fields\": [\n    {\n      \"column\": \"city_gasoline_consumption_cd\",\n      \"properties\": {\n        \"dtype\": \"number\",\n        \"std\": 0.039976374094345186,\n        \"min\": 0.0,\n        \"max\": 5.35,\n        \"num_unique_values\": 9,\n        \"samples\": [\n          0.8339,\n          0.35,\n          0.5\n        ],\n        \"semantic_type\": \"\",\n        \"description\": \"\"\n      }\n    }\n  ]\n}"
            }
          },
          "metadata": {},
          "execution_count": 59
        }
      ]
    },
    {
      "cell_type": "code",
      "source": [
        "from sklearn.model_selection import train_test_split\n",
        "X_train,X_test,y_train,y_test=train_test_split(X,y,test_size=27,random_state=42)\n",
        "from sklearn.tree import DecisionTreeRegressor\n",
        "\n",
        "model=DecisionTreeRegressor(random_state=42)\n",
        "model.fit(X,y)"
      ],
      "metadata": {
        "execution": {
          "iopub.status.busy": "2024-04-10T18:42:13.797348Z",
          "iopub.execute_input": "2024-04-10T18:42:13.797631Z",
          "iopub.status.idle": "2024-04-10T18:42:13.96371Z",
          "shell.execute_reply.started": "2024-04-10T18:42:13.797605Z",
          "shell.execute_reply": "2024-04-10T18:42:13.96255Z"
        },
        "trusted": true,
        "colab": {
          "base_uri": "https://localhost:8080/",
          "height": 74
        },
        "id": "t2i2BP0tXZrD",
        "outputId": "9584217b-66bc-4452-da4f-c4f7998e8d2d"
      },
      "execution_count": 60,
      "outputs": [
        {
          "output_type": "execute_result",
          "data": {
            "text/plain": [
              "DecisionTreeRegressor(random_state=42)"
            ],
            "text/html": [
              "<style>#sk-container-id-1 {color: black;background-color: white;}#sk-container-id-1 pre{padding: 0;}#sk-container-id-1 div.sk-toggleable {background-color: white;}#sk-container-id-1 label.sk-toggleable__label {cursor: pointer;display: block;width: 100%;margin-bottom: 0;padding: 0.3em;box-sizing: border-box;text-align: center;}#sk-container-id-1 label.sk-toggleable__label-arrow:before {content: \"▸\";float: left;margin-right: 0.25em;color: #696969;}#sk-container-id-1 label.sk-toggleable__label-arrow:hover:before {color: black;}#sk-container-id-1 div.sk-estimator:hover label.sk-toggleable__label-arrow:before {color: black;}#sk-container-id-1 div.sk-toggleable__content {max-height: 0;max-width: 0;overflow: hidden;text-align: left;background-color: #f0f8ff;}#sk-container-id-1 div.sk-toggleable__content pre {margin: 0.2em;color: black;border-radius: 0.25em;background-color: #f0f8ff;}#sk-container-id-1 input.sk-toggleable__control:checked~div.sk-toggleable__content {max-height: 200px;max-width: 100%;overflow: auto;}#sk-container-id-1 input.sk-toggleable__control:checked~label.sk-toggleable__label-arrow:before {content: \"▾\";}#sk-container-id-1 div.sk-estimator input.sk-toggleable__control:checked~label.sk-toggleable__label {background-color: #d4ebff;}#sk-container-id-1 div.sk-label input.sk-toggleable__control:checked~label.sk-toggleable__label {background-color: #d4ebff;}#sk-container-id-1 input.sk-hidden--visually {border: 0;clip: rect(1px 1px 1px 1px);clip: rect(1px, 1px, 1px, 1px);height: 1px;margin: -1px;overflow: hidden;padding: 0;position: absolute;width: 1px;}#sk-container-id-1 div.sk-estimator {font-family: monospace;background-color: #f0f8ff;border: 1px dotted black;border-radius: 0.25em;box-sizing: border-box;margin-bottom: 0.5em;}#sk-container-id-1 div.sk-estimator:hover {background-color: #d4ebff;}#sk-container-id-1 div.sk-parallel-item::after {content: \"\";width: 100%;border-bottom: 1px solid gray;flex-grow: 1;}#sk-container-id-1 div.sk-label:hover label.sk-toggleable__label {background-color: #d4ebff;}#sk-container-id-1 div.sk-serial::before {content: \"\";position: absolute;border-left: 1px solid gray;box-sizing: border-box;top: 0;bottom: 0;left: 50%;z-index: 0;}#sk-container-id-1 div.sk-serial {display: flex;flex-direction: column;align-items: center;background-color: white;padding-right: 0.2em;padding-left: 0.2em;position: relative;}#sk-container-id-1 div.sk-item {position: relative;z-index: 1;}#sk-container-id-1 div.sk-parallel {display: flex;align-items: stretch;justify-content: center;background-color: white;position: relative;}#sk-container-id-1 div.sk-item::before, #sk-container-id-1 div.sk-parallel-item::before {content: \"\";position: absolute;border-left: 1px solid gray;box-sizing: border-box;top: 0;bottom: 0;left: 50%;z-index: -1;}#sk-container-id-1 div.sk-parallel-item {display: flex;flex-direction: column;z-index: 1;position: relative;background-color: white;}#sk-container-id-1 div.sk-parallel-item:first-child::after {align-self: flex-end;width: 50%;}#sk-container-id-1 div.sk-parallel-item:last-child::after {align-self: flex-start;width: 50%;}#sk-container-id-1 div.sk-parallel-item:only-child::after {width: 0;}#sk-container-id-1 div.sk-dashed-wrapped {border: 1px dashed gray;margin: 0 0.4em 0.5em 0.4em;box-sizing: border-box;padding-bottom: 0.4em;background-color: white;}#sk-container-id-1 div.sk-label label {font-family: monospace;font-weight: bold;display: inline-block;line-height: 1.2em;}#sk-container-id-1 div.sk-label-container {text-align: center;}#sk-container-id-1 div.sk-container {/* jupyter's `normalize.less` sets `[hidden] { display: none; }` but bootstrap.min.css set `[hidden] { display: none !important; }` so we also need the `!important` here to be able to override the default hidden behavior on the sphinx rendered scikit-learn.org. See: https://github.com/scikit-learn/scikit-learn/issues/21755 */display: inline-block !important;position: relative;}#sk-container-id-1 div.sk-text-repr-fallback {display: none;}</style><div id=\"sk-container-id-1\" class=\"sk-top-container\"><div class=\"sk-text-repr-fallback\"><pre>DecisionTreeRegressor(random_state=42)</pre><b>In a Jupyter environment, please rerun this cell to show the HTML representation or trust the notebook. <br />On GitHub, the HTML representation is unable to render, please try loading this page with nbviewer.org.</b></div><div class=\"sk-container\" hidden><div class=\"sk-item\"><div class=\"sk-estimator sk-toggleable\"><input class=\"sk-toggleable__control sk-hidden--visually\" id=\"sk-estimator-id-1\" type=\"checkbox\" checked><label for=\"sk-estimator-id-1\" class=\"sk-toggleable__label sk-toggleable__label-arrow\">DecisionTreeRegressor</label><div class=\"sk-toggleable__content\"><pre>DecisionTreeRegressor(random_state=42)</pre></div></div></div></div></div>"
            ]
          },
          "metadata": {},
          "execution_count": 60
        }
      ]
    },
    {
      "cell_type": "code",
      "source": [
        "from sklearn.metrics import accuracy_score\n",
        "\n",
        "ac_test=model.score(X_test,y_test)\n",
        "ac_train=model.score(X_train,y_train)\n",
        "\n",
        "print(ac_test,ac_train)"
      ],
      "metadata": {
        "execution": {
          "iopub.status.busy": "2024-04-10T18:47:32.262196Z",
          "iopub.execute_input": "2024-04-10T18:47:32.26319Z",
          "iopub.status.idle": "2024-04-10T18:47:32.285678Z",
          "shell.execute_reply.started": "2024-04-10T18:47:32.263152Z",
          "shell.execute_reply": "2024-04-10T18:47:32.284522Z"
        },
        "trusted": true,
        "colab": {
          "base_uri": "https://localhost:8080/"
        },
        "id": "P-3dyneyXZrE",
        "outputId": "c47aef32-d6b0-4e16-ecce-5b688807fbf7"
      },
      "execution_count": 61,
      "outputs": [
        {
          "output_type": "stream",
          "name": "stdout",
          "text": [
            "1.0 1.0\n"
          ]
        }
      ]
    },
    {
      "cell_type": "code",
      "source": [
        "# linear regressor and accuracy\n",
        "\n",
        "from sklearn.linear_model import LinearRegression\n",
        "model2=LinearRegression()\n",
        "model2.fit(X_train,y_train)\n",
        "ac_test2=model2.score(X_test,y_test)\n",
        "ac_train2=model2.score(X_train,y_train)\n",
        "print(ac_test2,ac_train2)\n"
      ],
      "metadata": {
        "trusted": true,
        "colab": {
          "base_uri": "https://localhost:8080/"
        },
        "id": "F-DdOdSDXZrF",
        "outputId": "8af6297a-4c46-47f2-f813-ebb0f73f1399"
      },
      "execution_count": 62,
      "outputs": [
        {
          "output_type": "stream",
          "name": "stdout",
          "text": [
            "0.0 0.9993461121318642\n"
          ]
        }
      ]
    },
    {
      "cell_type": "code",
      "source": [
        "# random forest\n",
        "\n",
        "from sklearn.ensemble import RandomForestRegressor\n",
        "model3=RandomForestRegressor(n_estimators=100,max_depth=5,random_state=42)\n",
        "model3.fit(X_train,y_train)\n",
        "ac_test3=model3.score(X_test,y_test)\n",
        "ac_train3=model3.score(X_train,y_train)\n",
        "print(ac_test3,ac_train3)\n"
      ],
      "metadata": {
        "trusted": true,
        "colab": {
          "base_uri": "https://localhost:8080/"
        },
        "id": "W3KrUWUlXZrF",
        "outputId": "a3854468-400d-411a-a77b-aff21a7ce80e"
      },
      "execution_count": 63,
      "outputs": [
        {
          "output_type": "stream",
          "name": "stderr",
          "text": [
            "<ipython-input-63-ec7c18b6a89b>:5: DataConversionWarning: A column-vector y was passed when a 1d array was expected. Please change the shape of y to (n_samples,), for example using ravel().\n",
            "  model3.fit(X_train,y_train)\n"
          ]
        },
        {
          "output_type": "stream",
          "name": "stdout",
          "text": [
            "1.0 0.9770708104688612\n"
          ]
        }
      ]
    },
    {
      "cell_type": "code",
      "source": [
        "# prompt: apply svm\n",
        "\n",
        "from sklearn.svm import SVR\n",
        "model4=SVR(kernel='linear', C=100, gamma='auto')\n",
        "model4.fit(X_train,y_train)\n",
        "ac_test4=model4.score(X_test,y_test)\n",
        "ac_train4=model4.score(X_train,y_train)\n",
        "print(ac_test4,ac_train4)\n"
      ],
      "metadata": {
        "trusted": true,
        "colab": {
          "base_uri": "https://localhost:8080/"
        },
        "id": "hTWSWzsnXZrG",
        "outputId": "146522ed-3795-45b5-f6f4-78d4fb4dc30c"
      },
      "execution_count": null,
      "outputs": [
        {
          "output_type": "stream",
          "name": "stderr",
          "text": [
            "/usr/local/lib/python3.10/dist-packages/sklearn/utils/validation.py:1143: DataConversionWarning: A column-vector y was passed when a 1d array was expected. Please change the shape of y to (n_samples, ), for example using ravel().\n",
            "  y = column_or_1d(y, warn=True)\n"
          ]
        }
      ]
    },
    {
      "cell_type": "code",
      "source": [
        "\n",
        "\n",
        "from sklearn.neighbors import KNeighborsRegressor\n",
        "model5=KNeighborsRegressor(n_neighbors=3)\n",
        "model5.fit(X_train,y_train)\n",
        "ac_test5=model5.score(X_test,y_test)\n",
        "ac_train5=model5.score(X_train,y_train)\n",
        "print(ac_test5,ac_train5)\n"
      ],
      "metadata": {
        "trusted": true,
        "id": "e7oXSFCWXZrG"
      },
      "execution_count": 63,
      "outputs": []
    },
    {
      "cell_type": "code",
      "source": [
        "\n",
        "\n",
        "from sklearn.ensemble import AdaBoostRegressor\n",
        "\n",
        "model6 = AdaBoostRegressor(n_estimators=100, learning_rate=1.0, random_state=42)\n",
        "model6.fit(X_train, y_train)\n",
        "\n",
        "ac_test6 = model6.score(X_test, y_test)\n",
        "ac_train6 = model6.score(X_train, y_train)\n",
        "\n",
        "print(ac_test6, ac_train6)\n"
      ],
      "metadata": {
        "trusted": true,
        "id": "DbiZXr0PXZrG"
      },
      "execution_count": 63,
      "outputs": []
    },
    {
      "cell_type": "code",
      "source": [
        "\n",
        "\n",
        "from sklearn.ensemble import GradientBoostingRegressor\n",
        "\n",
        "model7 = GradientBoostingRegressor(n_estimators=100, learning_rate=1.0, random_state=42)\n",
        "model7.fit(X_train, y_train)\n",
        "\n",
        "ac_test7 = model7.score(X_test, y_test)\n",
        "ac_train7 = model7.score(X_train, y_train)\n",
        "\n",
        "print(ac_test7, ac_train7)\n"
      ],
      "metadata": {
        "trusted": true,
        "id": "vQFHQIY4XZrH"
      },
      "execution_count": 63,
      "outputs": []
    },
    {
      "cell_type": "code",
      "source": [
        "\n",
        "\n",
        "model8 = XGBRegressor(n_estimators=100, learning_rate=1.0, random_state=42)\n",
        "model8.fit(X_train, y_train)\n",
        "\n",
        "ac_test8 = model8.score(X_test, y_test)\n",
        "ac_train8 = model8.score(X_train, y_train)\n",
        "\n",
        "print(ac_test8, ac_train8)\n"
      ],
      "metadata": {
        "trusted": true,
        "id": "ai1gg1iBXZrH"
      },
      "execution_count": 63,
      "outputs": []
    },
    {
      "cell_type": "code",
      "source": [
        "\n",
        "!pip install catboost\n",
        "from catboost import CatBoostRegressor\n",
        "\n",
        "model9 = CatBoostRegressor(iterations=500,\n",
        "                         learning_rate=0.05,\n",
        "                         depth=10,\n",
        "                         loss_function='RMSE',\n",
        "                         eval_metric='RMSE',\n",
        "                         l2_leaf_reg=3)\n",
        "\n",
        "model9.fit(X_train, y_train,\n",
        "                     cat_features=['make', 'model', 'class', 'drive', 'transmission', 'transmission_type', 'engine_descriptor', 'fuel_type', 'fuel_type_1', 'alternative_fuel_technology'],\n",
        "                     verbose=False)\n",
        "\n",
        "ac_test9 = model9.score(X_test, y_test)\n",
        "ac_train9 = model9.score(X_train, y_train)\n",
        "\n",
        "print(ac_test9, ac_train9)\n"
      ],
      "metadata": {
        "trusted": true,
        "id": "gNLNkMQ9XZrH"
      },
      "execution_count": 63,
      "outputs": []
    },
    {
      "cell_type": "code",
      "source": [
        "import pandas as pd\n",
        "\n",
        "models = [\n",
        "    {'Model': 'DecisionTreeRegressor', 'Train Accuracy': ac_train, 'Test Accuracy': ac_test},\n",
        "    {'Model': 'LinearRegression', 'Train Accuracy': ac_train2, 'Test Accuracy': ac_test2},\n",
        "    {'Model': 'RandomForestRegressor', 'Train Accuracy': ac_train3, 'Test Accuracy': ac_test3},\n",
        "    {'Model': 'SVR', 'Train Accuracy': ac_train4, 'Test Accuracy': ac_test4},\n",
        "    {'Model': 'KNeighborsRegressor', 'Train Accuracy': ac_train5, 'Test Accuracy': ac_test5},\n",
        "    {'Model': 'AdaBoostRegressor', 'Train Accuracy': ac_train6, 'Test Accuracy': ac_test6},\n",
        "    {'Model': 'GradientBoostingRegressor', 'Train Accuracy': ac_train7, 'Test Accuracy': ac_test7},\n",
        "    {'Model': 'XGBRegressor', 'Train Accuracy': ac_train8, 'Test Accuracy': ac_test8},\n",
        "    {'Model': 'CatBoostRegressor', 'Train Accuracy': ac_train9, 'Test Accuracy': ac_test9},\n",
        "]\n",
        "\n",
        "df = pd.DataFrame(models)\n",
        "\n",
        "df_sorted = df.sort_values(by=['Test Accuracy'], ascending=False)\n",
        "\n",
        "print(df_sorted)\n"
      ],
      "metadata": {
        "trusted": true,
        "id": "DF-NFf3RXZrI"
      },
      "execution_count": 63,
      "outputs": []
    },
    {
      "cell_type": "code",
      "source": [],
      "metadata": {
        "trusted": true,
        "id": "8qhkvkKXXZrI"
      },
      "execution_count": 63,
      "outputs": []
    },
    {
      "cell_type": "code",
      "source": [],
      "metadata": {
        "trusted": true,
        "id": "mCKpN3K_XZrI"
      },
      "execution_count": 63,
      "outputs": []
    },
    {
      "cell_type": "code",
      "source": [],
      "metadata": {
        "trusted": true,
        "id": "M4KrTiCfXZrI"
      },
      "execution_count": 63,
      "outputs": []
    },
    {
      "cell_type": "code",
      "source": [],
      "metadata": {
        "trusted": true,
        "id": "RIQgB7msXZrK"
      },
      "execution_count": 63,
      "outputs": []
    },
    {
      "cell_type": "code",
      "source": [],
      "metadata": {
        "trusted": true,
        "id": "Nsc6p95mXZrL"
      },
      "execution_count": 63,
      "outputs": []
    },
    {
      "cell_type": "code",
      "source": [],
      "metadata": {
        "trusted": true,
        "id": "thU7pMUoXZrM"
      },
      "execution_count": 63,
      "outputs": []
    },
    {
      "cell_type": "code",
      "source": [],
      "metadata": {
        "trusted": true,
        "id": "qIY65vIbXZrN"
      },
      "execution_count": 63,
      "outputs": []
    },
    {
      "cell_type": "code",
      "source": [],
      "metadata": {
        "trusted": true,
        "id": "iLhs1VHSXZrN"
      },
      "execution_count": 63,
      "outputs": []
    },
    {
      "cell_type": "markdown",
      "source": [
        "City gasoline Consumption"
      ],
      "metadata": {
        "id": "uTr0aC4yXZrN"
      }
    },
    {
      "cell_type": "code",
      "source": [],
      "metadata": {
        "id": "AKAv9XfDXZrO"
      },
      "execution_count": 63,
      "outputs": []
    },
    {
      "cell_type": "code",
      "source": [],
      "metadata": {
        "trusted": true,
        "id": "XuR4BRQMXZrO"
      },
      "execution_count": 63,
      "outputs": []
    },
    {
      "cell_type": "code",
      "source": [],
      "metadata": {
        "trusted": true,
        "id": "y7BInm3XXZrO"
      },
      "execution_count": 63,
      "outputs": []
    },
    {
      "cell_type": "code",
      "source": [],
      "metadata": {
        "trusted": true,
        "id": "-38okVIiXZrP"
      },
      "execution_count": 63,
      "outputs": []
    },
    {
      "cell_type": "code",
      "source": [],
      "metadata": {
        "trusted": true,
        "id": "uN13LJbeXZrP"
      },
      "execution_count": 63,
      "outputs": []
    },
    {
      "cell_type": "code",
      "source": [],
      "metadata": {
        "trusted": true,
        "id": "Tg_L6ER-XZrP"
      },
      "execution_count": 63,
      "outputs": []
    },
    {
      "cell_type": "code",
      "source": [],
      "metadata": {
        "trusted": true,
        "id": "DcU2k4q2XZrQ"
      },
      "execution_count": 63,
      "outputs": []
    },
    {
      "cell_type": "code",
      "source": [],
      "metadata": {
        "trusted": true,
        "id": "cfZ__fikXZrQ"
      },
      "execution_count": 63,
      "outputs": []
    },
    {
      "cell_type": "code",
      "source": [],
      "metadata": {
        "trusted": true,
        "id": "KCbfKXNpXZrQ"
      },
      "execution_count": 63,
      "outputs": []
    },
    {
      "cell_type": "code",
      "source": [],
      "metadata": {
        "trusted": true,
        "id": "g1Ss0vkxXZrR"
      },
      "execution_count": 63,
      "outputs": []
    },
    {
      "cell_type": "code",
      "source": [],
      "metadata": {
        "trusted": true,
        "id": "r-ZlGQbfXZrR"
      },
      "execution_count": 63,
      "outputs": []
    },
    {
      "cell_type": "code",
      "source": [],
      "metadata": {
        "trusted": true,
        "id": "3W-mruJbXZrR"
      },
      "execution_count": 63,
      "outputs": []
    },
    {
      "cell_type": "code",
      "source": [],
      "metadata": {
        "trusted": true,
        "id": "Z9IJz947XZrR"
      },
      "execution_count": 63,
      "outputs": []
    }
  ]
}